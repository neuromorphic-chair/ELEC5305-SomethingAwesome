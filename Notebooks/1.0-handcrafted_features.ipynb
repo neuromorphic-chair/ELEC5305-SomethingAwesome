{
 "cells": [
  {
   "cell_type": "markdown",
   "metadata": {},
   "source": [
    "# Hand-crafted features for GTZAN\n",
    "\n",
    "> The goal of this notebook is to create several audio features descriptors for the GTZAN dataset, as proposed for many year as input for machine learning algorithms. We are going to use timbral texture based features and tempo based features for this. The main goal is to produce this features, classify and then compare with our proposed deep learning approach, using CNNs on the raw audio.\n",
    "\n",
    "> This script is from https://github.com/Hguimaraes/gtzan.keras adapted to my case of 2 specific sub-genres"
   ]
  },
  {
   "cell_type": "code",
   "execution_count": 36,
   "metadata": {},
   "outputs": [],
   "source": [
    "import os\n",
    "import librosa\n",
    "import itertools\n",
    "import numpy as np\n",
    "import pandas as pd\n",
    "import matplotlib.pyplot as plt\n",
    "from scipy.stats import kurtosis\n",
    "from scipy.stats import skew"
   ]
  },
  {
   "cell_type": "code",
   "execution_count": 37,
   "metadata": {},
   "outputs": [],
   "source": [
    "import sklearn\n",
    "from sklearn.preprocessing import StandardScaler\n",
    "from sklearn.metrics import accuracy_score\n",
    "from sklearn.metrics import confusion_matrix\n",
    "from sklearn.pipeline import Pipeline\n",
    "from sklearn.feature_selection import SelectKBest\n",
    "from sklearn.model_selection import GridSearchCV\n",
    "from sklearn.model_selection import train_test_split\n",
    "\n",
    "from sklearn.decomposition import PCA\n",
    "from sklearn.manifold import TSNE\n",
    "from sklearn.discriminant_analysis import LinearDiscriminantAnalysis as LDA\n",
    "\n",
    "from sklearn.feature_selection import VarianceThreshold\n",
    "from sklearn.feature_selection import SelectFromModel\n",
    "\n",
    "import lightgbm as lgbm\n",
    "from sklearn.linear_model import LogisticRegression\n",
    "from sklearn.linear_model import SGDClassifier\n",
    "from sklearn.tree import DecisionTreeClassifier\n",
    "from sklearn.ensemble import RandomForestClassifier\n",
    "from sklearn.svm import SVC"
   ]
  },
  {
   "cell_type": "code",
   "execution_count": 38,
   "metadata": {},
   "outputs": [],
   "source": [
    "# Set the seed\n",
    "np.random.seed(42)"
   ]
  },
  {
   "cell_type": "code",
   "execution_count": 39,
   "metadata": {},
   "outputs": [],
   "source": [
    "gtzan_dir = '../Data/songs/small_test_set/'"
   ]
  },
  {
   "cell_type": "code",
   "execution_count": 40,
   "metadata": {},
   "outputs": [],
   "source": [
    "# Parameters\n",
    "#song_samples = 22050*30\n",
    "genres = {'black': 0, 'death': 1}"
   ]
  },
  {
   "cell_type": "code",
   "execution_count": 41,
   "metadata": {},
   "outputs": [],
   "source": [
    "def get_features(y, sr, n_fft = 1024, hop_length = 512):\n",
    "    # Features to concatenate in the final dictionary\n",
    "    features = {'centroid': None, 'roloff': None, 'flux': None, 'rmse': None,\n",
    "                'zcr': None, 'contrast': None, 'bandwidth': None, 'flatness': None}\n",
    "    \n",
    "    # Count silence\n",
    "    if 0 < len(y):\n",
    "        y_sound, _ = librosa.effects.trim(y, frame_length=n_fft, hop_length=hop_length)\n",
    "    features['sample_silence'] = len(y) - len(y_sound)\n",
    "\n",
    "    # Using librosa to calculate the features\n",
    "    features['centroid'] = librosa.feature.spectral_centroid(y, sr=sr, n_fft=n_fft, hop_length=hop_length).ravel()\n",
    "    features['roloff'] = librosa.feature.spectral_rolloff(y, sr=sr, n_fft=n_fft, hop_length=hop_length).ravel()\n",
    "    features['zcr'] = librosa.feature.zero_crossing_rate(y, frame_length=n_fft, hop_length=hop_length).ravel()\n",
    "    features['rmse'] = librosa.feature.rms(y, frame_length=n_fft, hop_length=hop_length).ravel()\n",
    "    features['flux'] = librosa.onset.onset_strength(y=y, sr=sr).ravel()\n",
    "    features['contrast'] = librosa.feature.spectral_contrast(y, sr=sr).ravel()\n",
    "    features['bandwidth'] = librosa.feature.spectral_bandwidth(y, sr=sr, n_fft=n_fft, hop_length=hop_length).ravel()\n",
    "    features['flatness'] = librosa.feature.spectral_flatness(y, n_fft=n_fft, hop_length=hop_length).ravel()\n",
    "    \n",
    "    # MFCC treatment\n",
    "    mfcc = librosa.feature.mfcc(y, n_fft = n_fft, hop_length = hop_length, n_mfcc=13)\n",
    "    for idx, v_mfcc in enumerate(mfcc):\n",
    "        features['mfcc_{}'.format(idx)] = v_mfcc.ravel()\n",
    "        \n",
    "    # Get statistics from the vectors\n",
    "    def get_moments(descriptors):\n",
    "        result = {}\n",
    "        for k, v in descriptors.items():\n",
    "            result['{}_max'.format(k)] = np.max(v)\n",
    "            result['{}_min'.format(k)] = np.min(v)\n",
    "            result['{}_mean'.format(k)] = np.mean(v)\n",
    "            result['{}_std'.format(k)] = np.std(v)\n",
    "            result['{}_kurtosis'.format(k)] = kurtosis(v)\n",
    "            result['{}_skew'.format(k)] = skew(v)\n",
    "        return result\n",
    "    \n",
    "    dict_agg_features = get_moments(features)\n",
    "    dict_agg_features['tempo'] = librosa.beat.tempo(y, sr=sr)[0]\n",
    "    \n",
    "    return dict_agg_features"
   ]
  },
  {
   "cell_type": "code",
   "execution_count": 42,
   "metadata": {},
   "outputs": [],
   "source": [
    "def read_process_songs(src_dir, debug = True):    \n",
    "    # Empty array of dicts with the processed features from all files\n",
    "    arr_features = []\n",
    "\n",
    "    # Read files from the folders\n",
    "    for x,_ in genres.items():\n",
    "        folder = src_dir + x\n",
    "        \n",
    "        for root, subdirs, files in os.walk(folder):\n",
    "            for file in files:\n",
    "                # Read the audio file\n",
    "                file_name = folder + \"/\" + file\n",
    "                signal, sr = librosa.load(file_name)\n",
    "                \n",
    "                # Debug process\n",
    "                if debug:\n",
    "                    print(\"Reading file: {}\".format(file_name))\n",
    "                \n",
    "                # Append the result to the data structure\n",
    "                features = get_features(signal, sr)\n",
    "                features['genre'] = genres[x]\n",
    "                arr_features.append(features)\n",
    "    return arr_features"
   ]
  },
  {
   "cell_type": "code",
   "execution_count": 43,
   "metadata": {
    "scrolled": true
   },
   "outputs": [
    {
     "name": "stderr",
     "output_type": "stream",
     "text": [
      "C:\\Users\\user\\anaconda3\\envs\\ml38b\\lib\\site-packages\\librosa\\core\\audio.py:165: UserWarning: PySoundFile failed. Trying audioread instead.\n",
      "  warnings.warn(\"PySoundFile failed. Trying audioread instead.\")\n"
     ]
    },
    {
     "name": "stdout",
     "output_type": "stream",
     "text": [
      "Reading file: ../Data/songs/small_test_set/black/(2)_[Gorgoroth]_A_World_To_Win.ape\n",
      "Reading file: ../Data/songs/small_test_set/black/(6)_[Gorgoroth]_Ein_Eim_Av_Blod_Og_Helvetesild.ape\n",
      "Reading file: ../Data/songs/small_test_set/black/01. Unsilent Storms In The North Abyss.flac\n",
      "Reading file: ../Data/songs/small_test_set/black/02 - Ancient Queen.flac\n",
      "Reading file: ../Data/songs/small_test_set/black/03 - Night of the Graveless Souls.flac\n",
      "Reading file: ../Data/songs/small_test_set/black/03 - Night Of The Graveless Souls.mp3\n",
      "Reading file: ../Data/songs/small_test_set/black/03. Descent Into Eminent Silence.flac\n",
      "Reading file: ../Data/songs/small_test_set/black/03. Enslaved - Urtical Gods.mp3\n",
      "Reading file: ../Data/songs/small_test_set/black/04 - The Source Of Icon E.flac\n",
      "Reading file: ../Data/songs/small_test_set/black/04. Throned By Blackstorms.flac\n",
      "Reading file: ../Data/songs/small_test_set/black/05. Battlefields.flac\n",
      "Reading file: ../Data/songs/small_test_set/black/05. Cold Winds of Funeral Dust.flac\n",
      "Reading file: ../Data/songs/small_test_set/black/05. Enslaved - Nidingaslakt.mp3\n",
      "Reading file: ../Data/songs/small_test_set/black/06. Eternal Years On The Path To Cemetary Gates.flac\n",
      "Reading file: ../Data/songs/small_test_set/black/07. Buried By Time And Dust - Mayhem.mp3\n",
      "Reading file: ../Data/songs/small_test_set/black/08. Enslaved - Brisinghamen.mp3\n",
      "Reading file: ../Data/songs/small_test_set/black/08. Through The Halls Of Eternity.flac\n",
      "Reading file: ../Data/songs/small_test_set/black/10. RESOUND OF GJALLARHORN (ENSLAVED).mp3\n",
      "Reading file: ../Data/songs/small_test_set/black/11 - Ancient Queen.flac\n",
      "Reading file: ../Data/songs/small_test_set/black/Enslaved - 06 - Resound Of Gjallarhorn.mp3\n",
      "Reading file: ../Data/songs/small_test_set/death/(02)_[Death]_Archangel_(Infernal_Death_Demo).flac\n",
      "Reading file: ../Data/songs/small_test_set/death/(08)_[Death]_Beyond_The_Unholy_Grave_(Back_From_The_Dead_Demo_1986).flac\n",
      "Reading file: ../Data/songs/small_test_set/death/(08)_[Death]_Zombie_(Reign_Of_Terror_Demo).flac\n",
      "Reading file: ../Data/songs/small_test_set/death/(09)_[Slaughter]_Tortured_Souls.flac\n",
      "Reading file: ../Data/songs/small_test_set/death/(10)_[Death]_Legion_Of_Doom_(Back_From_The_Dead_Demo_1986).flac\n",
      "Reading file: ../Data/songs/small_test_set/death/(11)_[Death]_Beyond_The_Unholy_Grave.flac\n",
      "Reading file: ../Data/songs/small_test_set/death/(11)_[Death]_Land_Of_No_Return_(Mutilation_Demo).flac\n",
      "Reading file: ../Data/songs/small_test_set/death/(12)_[Death]_Land_Of_No_Return.flac\n",
      "Reading file: ../Data/songs/small_test_set/death/(14)_[Mantas]_Black_Magic.flac\n",
      "Reading file: ../Data/songs/small_test_set/death/(15)_[Death]_Zombie_(Rehearsal_1984).flac\n",
      "Reading file: ../Data/songs/small_test_set/death/(16)_[Mantas]_Beyond_The_Unholy_Grave.flac\n",
      "Reading file: ../Data/songs/small_test_set/death/01 - Possessed - Death Metal (Demo 84).mp3\n",
      "Reading file: ../Data/songs/small_test_set/death/01. Dehydrated.mp3\n",
      "Reading file: ../Data/songs/small_test_set/death/01. Internal Bleeding.mp3\n",
      "Reading file: ../Data/songs/small_test_set/death/02 - Possessed - Burning In Hell (Demo 84).mp3\n",
      "Reading file: ../Data/songs/small_test_set/death/03 - March To Die.mp3\n",
      "Reading file: ../Data/songs/small_test_set/death/07 - The Beasts Of The Apocalypse.mp3\n",
      "Reading file: ../Data/songs/small_test_set/death/08 - Seance.mp3\n",
      "Reading file: ../Data/songs/small_test_set/death/11. Bloodsoaked.mp3\n",
      "Reading file: ../Data/songs/small_test_set/death/Possessed - 03 - Burning In Hell.mp3\n",
      "Wall time: 13min 6s\n"
     ]
    }
   ],
   "source": [
    "%%time\n",
    "\n",
    "# Get list of dicts with features and convert to dataframe\n",
    "features = read_process_songs(gtzan_dir, debug=True)"
   ]
  },
  {
   "cell_type": "code",
   "execution_count": 44,
   "metadata": {},
   "outputs": [],
   "source": [
    "df_features = pd.DataFrame(features)"
   ]
  },
  {
   "cell_type": "code",
   "execution_count": 45,
   "metadata": {},
   "outputs": [
    {
     "data": {
      "text/plain": [
       "(40, 134)"
      ]
     },
     "execution_count": 45,
     "metadata": {},
     "output_type": "execute_result"
    }
   ],
   "source": [
    "df_features.shape"
   ]
  },
  {
   "cell_type": "code",
   "execution_count": 46,
   "metadata": {},
   "outputs": [
    {
     "data": {
      "text/html": [
       "<div>\n",
       "<style scoped>\n",
       "    .dataframe tbody tr th:only-of-type {\n",
       "        vertical-align: middle;\n",
       "    }\n",
       "\n",
       "    .dataframe tbody tr th {\n",
       "        vertical-align: top;\n",
       "    }\n",
       "\n",
       "    .dataframe thead th {\n",
       "        text-align: right;\n",
       "    }\n",
       "</style>\n",
       "<table border=\"1\" class=\"dataframe\">\n",
       "  <thead>\n",
       "    <tr style=\"text-align: right;\">\n",
       "      <th></th>\n",
       "      <th>centroid_max</th>\n",
       "      <th>centroid_min</th>\n",
       "      <th>centroid_mean</th>\n",
       "      <th>centroid_std</th>\n",
       "      <th>centroid_kurtosis</th>\n",
       "      <th>centroid_skew</th>\n",
       "      <th>roloff_max</th>\n",
       "      <th>roloff_min</th>\n",
       "      <th>roloff_mean</th>\n",
       "      <th>roloff_std</th>\n",
       "      <th>...</th>\n",
       "      <th>mfcc_11_kurtosis</th>\n",
       "      <th>mfcc_11_skew</th>\n",
       "      <th>mfcc_12_max</th>\n",
       "      <th>mfcc_12_min</th>\n",
       "      <th>mfcc_12_mean</th>\n",
       "      <th>mfcc_12_std</th>\n",
       "      <th>mfcc_12_kurtosis</th>\n",
       "      <th>mfcc_12_skew</th>\n",
       "      <th>tempo</th>\n",
       "      <th>genre</th>\n",
       "    </tr>\n",
       "  </thead>\n",
       "  <tbody>\n",
       "    <tr>\n",
       "      <th>0</th>\n",
       "      <td>3869.546804</td>\n",
       "      <td>0.000000</td>\n",
       "      <td>294.828904</td>\n",
       "      <td>825.091792</td>\n",
       "      <td>4.839536</td>\n",
       "      <td>2.562195</td>\n",
       "      <td>7967.285156</td>\n",
       "      <td>0.000000</td>\n",
       "      <td>636.370725</td>\n",
       "      <td>1792.025778</td>\n",
       "      <td>...</td>\n",
       "      <td>16.046562</td>\n",
       "      <td>3.526968</td>\n",
       "      <td>24.730848</td>\n",
       "      <td>-20.040756</td>\n",
       "      <td>0.243008</td>\n",
       "      <td>2.595644</td>\n",
       "      <td>20.454327</td>\n",
       "      <td>2.119749</td>\n",
       "      <td>135.999178</td>\n",
       "      <td>0</td>\n",
       "    </tr>\n",
       "    <tr>\n",
       "      <th>1</th>\n",
       "      <td>4534.471484</td>\n",
       "      <td>0.000000</td>\n",
       "      <td>1380.944624</td>\n",
       "      <td>1367.484954</td>\n",
       "      <td>-1.710426</td>\n",
       "      <td>0.096348</td>\n",
       "      <td>8441.015625</td>\n",
       "      <td>0.000000</td>\n",
       "      <td>2756.848071</td>\n",
       "      <td>2710.539600</td>\n",
       "      <td>...</td>\n",
       "      <td>0.375951</td>\n",
       "      <td>1.043961</td>\n",
       "      <td>19.768749</td>\n",
       "      <td>-41.414047</td>\n",
       "      <td>-1.021563</td>\n",
       "      <td>4.933767</td>\n",
       "      <td>4.598924</td>\n",
       "      <td>-1.104690</td>\n",
       "      <td>129.199219</td>\n",
       "      <td>0</td>\n",
       "    </tr>\n",
       "    <tr>\n",
       "      <th>2</th>\n",
       "      <td>4295.498784</td>\n",
       "      <td>513.736452</td>\n",
       "      <td>3005.198413</td>\n",
       "      <td>327.010280</td>\n",
       "      <td>2.697415</td>\n",
       "      <td>-0.588897</td>\n",
       "      <td>7816.552734</td>\n",
       "      <td>43.066406</td>\n",
       "      <td>5657.765589</td>\n",
       "      <td>555.879769</td>\n",
       "      <td>...</td>\n",
       "      <td>0.430768</td>\n",
       "      <td>0.115611</td>\n",
       "      <td>17.913080</td>\n",
       "      <td>-35.499874</td>\n",
       "      <td>-7.820831</td>\n",
       "      <td>6.499641</td>\n",
       "      <td>0.153981</td>\n",
       "      <td>0.228145</td>\n",
       "      <td>135.999178</td>\n",
       "      <td>0</td>\n",
       "    </tr>\n",
       "    <tr>\n",
       "      <th>3</th>\n",
       "      <td>4215.694354</td>\n",
       "      <td>0.000000</td>\n",
       "      <td>1599.525939</td>\n",
       "      <td>294.882949</td>\n",
       "      <td>8.466247</td>\n",
       "      <td>0.500570</td>\n",
       "      <td>8699.414062</td>\n",
       "      <td>0.000000</td>\n",
       "      <td>3706.825516</td>\n",
       "      <td>576.143101</td>\n",
       "      <td>...</td>\n",
       "      <td>0.155326</td>\n",
       "      <td>-0.061355</td>\n",
       "      <td>22.193771</td>\n",
       "      <td>-21.693535</td>\n",
       "      <td>0.128726</td>\n",
       "      <td>5.681358</td>\n",
       "      <td>0.114515</td>\n",
       "      <td>0.080191</td>\n",
       "      <td>123.046875</td>\n",
       "      <td>0</td>\n",
       "    </tr>\n",
       "    <tr>\n",
       "      <th>4</th>\n",
       "      <td>4021.597939</td>\n",
       "      <td>284.709447</td>\n",
       "      <td>2907.742452</td>\n",
       "      <td>398.497750</td>\n",
       "      <td>2.077889</td>\n",
       "      <td>-0.779413</td>\n",
       "      <td>8204.150391</td>\n",
       "      <td>43.066406</td>\n",
       "      <td>6221.766752</td>\n",
       "      <td>665.859390</td>\n",
       "      <td>...</td>\n",
       "      <td>-0.084799</td>\n",
       "      <td>0.157413</td>\n",
       "      <td>14.005433</td>\n",
       "      <td>-30.771206</td>\n",
       "      <td>-9.959908</td>\n",
       "      <td>6.297565</td>\n",
       "      <td>0.327041</td>\n",
       "      <td>0.323007</td>\n",
       "      <td>112.347147</td>\n",
       "      <td>0</td>\n",
       "    </tr>\n",
       "  </tbody>\n",
       "</table>\n",
       "<p>5 rows × 134 columns</p>\n",
       "</div>"
      ],
      "text/plain": [
       "   centroid_max  centroid_min  centroid_mean  centroid_std  centroid_kurtosis  \\\n",
       "0   3869.546804      0.000000     294.828904    825.091792           4.839536   \n",
       "1   4534.471484      0.000000    1380.944624   1367.484954          -1.710426   \n",
       "2   4295.498784    513.736452    3005.198413    327.010280           2.697415   \n",
       "3   4215.694354      0.000000    1599.525939    294.882949           8.466247   \n",
       "4   4021.597939    284.709447    2907.742452    398.497750           2.077889   \n",
       "\n",
       "   centroid_skew   roloff_max  roloff_min  roloff_mean   roloff_std  ...  \\\n",
       "0       2.562195  7967.285156    0.000000   636.370725  1792.025778  ...   \n",
       "1       0.096348  8441.015625    0.000000  2756.848071  2710.539600  ...   \n",
       "2      -0.588897  7816.552734   43.066406  5657.765589   555.879769  ...   \n",
       "3       0.500570  8699.414062    0.000000  3706.825516   576.143101  ...   \n",
       "4      -0.779413  8204.150391   43.066406  6221.766752   665.859390  ...   \n",
       "\n",
       "   mfcc_11_kurtosis  mfcc_11_skew  mfcc_12_max  mfcc_12_min  mfcc_12_mean  \\\n",
       "0         16.046562      3.526968    24.730848   -20.040756      0.243008   \n",
       "1          0.375951      1.043961    19.768749   -41.414047     -1.021563   \n",
       "2          0.430768      0.115611    17.913080   -35.499874     -7.820831   \n",
       "3          0.155326     -0.061355    22.193771   -21.693535      0.128726   \n",
       "4         -0.084799      0.157413    14.005433   -30.771206     -9.959908   \n",
       "\n",
       "   mfcc_12_std  mfcc_12_kurtosis  mfcc_12_skew       tempo  genre  \n",
       "0     2.595644         20.454327      2.119749  135.999178      0  \n",
       "1     4.933767          4.598924     -1.104690  129.199219      0  \n",
       "2     6.499641          0.153981      0.228145  135.999178      0  \n",
       "3     5.681358          0.114515      0.080191  123.046875      0  \n",
       "4     6.297565          0.327041      0.323007  112.347147      0  \n",
       "\n",
       "[5 rows x 134 columns]"
      ]
     },
     "execution_count": 46,
     "metadata": {},
     "output_type": "execute_result"
    }
   ],
   "source": [
    "df_features.head()"
   ]
  },
  {
   "cell_type": "code",
   "execution_count": 12,
   "metadata": {},
   "outputs": [],
   "source": [
    "df_features.to_csv('../data/full_test_set_features.csv', index=False)"
   ]
  },
  {
   "cell_type": "code",
   "execution_count": 47,
   "metadata": {},
   "outputs": [],
   "source": [
    "X = df_features.drop(['genre'], axis=1).values\n",
    "y = df_features['genre'].values"
   ]
  },
  {
   "cell_type": "markdown",
   "metadata": {},
   "source": [
    "## Visualization\n",
    "\n",
    "> Linear (and nonlinear) dimensionality reduction of the GTZAN features for visualization purposes"
   ]
  },
  {
   "cell_type": "code",
   "execution_count": 48,
   "metadata": {},
   "outputs": [],
   "source": [
    "# Standartize the dataset\n",
    "scale = StandardScaler()\n",
    "x_scaled = scale.fit_transform(X)"
   ]
  },
  {
   "cell_type": "code",
   "execution_count": 49,
   "metadata": {},
   "outputs": [
    {
     "name": "stdout",
     "output_type": "stream",
     "text": [
      "cumulative explained variance ratio = 0.9966\n"
     ]
    }
   ],
   "source": [
    "# Use PCA only for visualization\n",
    "pca = PCA(n_components=35, whiten=True)\n",
    "x_pca = pca.fit_transform(x_scaled)\n",
    "print(\"cumulative explained variance ratio = {:.4f}\".format(np.sum(pca.explained_variance_ratio_)))"
   ]
  },
  {
   "cell_type": "code",
   "execution_count": 50,
   "metadata": {},
   "outputs": [],
   "source": [
    "# Use LDA only for visualization\n",
    "lda = LDA()\n",
    "x_lda = lda.fit_transform(x_scaled, y)"
   ]
  },
  {
   "cell_type": "code",
   "execution_count": 51,
   "metadata": {},
   "outputs": [
    {
     "name": "stderr",
     "output_type": "stream",
     "text": [
      "C:\\Users\\user\\anaconda3\\envs\\ml38b\\lib\\site-packages\\sklearn\\manifold\\_t_sne.py:780: FutureWarning: The default initialization in TSNE will change from 'random' to 'pca' in 1.2.\n",
      "  warnings.warn(\n"
     ]
    },
    {
     "name": "stdout",
     "output_type": "stream",
     "text": [
      "[t-SNE] Computing 39 nearest neighbors...\n",
      "[t-SNE] Indexed 40 samples in 0.032s...\n",
      "[t-SNE] Computed neighbors for 40 samples in 0.147s...\n",
      "[t-SNE] Computed conditional probabilities for sample 40 / 40\n",
      "[t-SNE] Mean sigma: 9.153642\n",
      "[t-SNE] KL divergence after 250 iterations with early exaggeration: 50.195686\n",
      "[t-SNE] KL divergence after 1000 iterations: 0.412961\n"
     ]
    }
   ],
   "source": [
    "# Using tsne\n",
    "tsne = TSNE(n_components=2, verbose=1, learning_rate=250)\n",
    "x_tsne = tsne.fit_transform(x_scaled)"
   ]
  },
  {
   "cell_type": "code",
   "execution_count": 52,
   "metadata": {},
   "outputs": [
    {
     "name": "stdout",
     "output_type": "stream",
     "text": [
      "(40, 35)\n",
      "(40, 1)\n"
     ]
    },
    {
     "ename": "IndexError",
     "evalue": "index 1 is out of bounds for axis 1 with size 1",
     "output_type": "error",
     "traceback": [
      "\u001b[1;31m---------------------------------------------------------------------------\u001b[0m",
      "\u001b[1;31mIndexError\u001b[0m                                Traceback (most recent call last)",
      "\u001b[1;32m<ipython-input-52-f191811f55e4>\u001b[0m in \u001b[0;36m<module>\u001b[1;34m\u001b[0m\n\u001b[0;32m      8\u001b[0m \u001b[0mplt\u001b[0m\u001b[1;33m.\u001b[0m\u001b[0msubplot\u001b[0m\u001b[1;33m(\u001b[0m\u001b[1;36m132\u001b[0m\u001b[1;33m)\u001b[0m\u001b[1;33m\u001b[0m\u001b[1;33m\u001b[0m\u001b[0m\n\u001b[0;32m      9\u001b[0m \u001b[0mprint\u001b[0m\u001b[1;33m(\u001b[0m\u001b[0mx_lda\u001b[0m\u001b[1;33m.\u001b[0m\u001b[0mshape\u001b[0m\u001b[1;33m)\u001b[0m\u001b[1;33m\u001b[0m\u001b[1;33m\u001b[0m\u001b[0m\n\u001b[1;32m---> 10\u001b[1;33m \u001b[0mplt\u001b[0m\u001b[1;33m.\u001b[0m\u001b[0mscatter\u001b[0m\u001b[1;33m(\u001b[0m\u001b[0mx_lda\u001b[0m\u001b[1;33m[\u001b[0m\u001b[1;33m:\u001b[0m\u001b[1;33m,\u001b[0m\u001b[1;36m0\u001b[0m\u001b[1;33m]\u001b[0m\u001b[1;33m,\u001b[0m \u001b[0mx_lda\u001b[0m\u001b[1;33m[\u001b[0m\u001b[1;33m:\u001b[0m\u001b[1;33m,\u001b[0m\u001b[1;36m1\u001b[0m\u001b[1;33m]\u001b[0m\u001b[1;33m,\u001b[0m \u001b[0mc\u001b[0m\u001b[1;33m=\u001b[0m\u001b[0my\u001b[0m\u001b[1;33m)\u001b[0m\u001b[1;33m\u001b[0m\u001b[1;33m\u001b[0m\u001b[0m\n\u001b[0m\u001b[0;32m     11\u001b[0m \u001b[0mplt\u001b[0m\u001b[1;33m.\u001b[0m\u001b[0mcolorbar\u001b[0m\u001b[1;33m(\u001b[0m\u001b[1;33m)\u001b[0m\u001b[1;33m\u001b[0m\u001b[1;33m\u001b[0m\u001b[0m\n\u001b[0;32m     12\u001b[0m \u001b[0mplt\u001b[0m\u001b[1;33m.\u001b[0m\u001b[0mtitle\u001b[0m\u001b[1;33m(\u001b[0m\u001b[1;34m\"Embedded space with LDA\"\u001b[0m\u001b[1;33m)\u001b[0m\u001b[1;33m\u001b[0m\u001b[1;33m\u001b[0m\u001b[0m\n",
      "\u001b[1;31mIndexError\u001b[0m: index 1 is out of bounds for axis 1 with size 1"
     ]
    },
    {
     "data": {
      "image/png": "[encoded data removed]",
      "text/plain": [
       "<Figure size 1296x288 with 3 Axes>"
      ]
     },
     "metadata": {
      "needs_background": "light"
     },
     "output_type": "display_data"
    }
   ],
   "source": [
    "plt.figure(figsize=(18, 4))\n",
    "plt.subplot(131)\n",
    "print(x_pca.shape)\n",
    "plt.scatter(x_pca[:,0], x_pca[:,1], c=y)\n",
    "plt.colorbar()\n",
    "plt.title(\"Embedded space with PCA\")\n",
    "\n",
    "plt.subplot(132)\n",
    "print(x_lda.shape)\n",
    "plt.scatter(x_lda[:,0], x_lda[:,1], c=y)\n",
    "plt.colorbar()\n",
    "plt.title(\"Embedded space with LDA\")\n",
    "\n",
    "plt.subplot(133)\n",
    "plt.scatter(x_tsne[:,0], x_tsne[:,1], c=y)\n",
    "plt.colorbar()\n",
    "plt.title(\"Embedded space with TSNE\")\n",
    "plt.show()"
   ]
  },
  {
   "cell_type": "code",
   "execution_count": 53,
   "metadata": {},
   "outputs": [
    {
     "data": {
      "text/plain": [
       "<AxesSubplot:>"
      ]
     },
     "execution_count": 53,
     "metadata": {},
     "output_type": "execute_result"
    },
    {
     "data": {
      "image/png": "[encoded data removed]",
      "text/plain": [
       "<Figure size 1080x144 with 2 Axes>"
      ]
     },
     "metadata": {
      "needs_background": "light"
     },
     "output_type": "display_data"
    }
   ],
   "source": [
    "# idea from https://github.com/rodriguezda/PCA/blob/master/pca%20pipeline.ipynb\n",
    "import seaborn as sns\n",
    "df = pd.DataFrame(X)\n",
    "df_component = pd.DataFrame(pca.components_, columns = df.columns)\n",
    "plt.figure(figsize=(15,2))\n",
    "sns.heatmap(df_component)"
   ]
  },
  {
   "cell_type": "code",
   "execution_count": 54,
   "metadata": {},
   "outputs": [
    {
     "name": "stdout",
     "output_type": "stream",
     "text": [
      "0      48\n",
      "1      62\n",
      "2      63\n",
      "3      40\n",
      "4      29\n",
      "5      55\n",
      "6      90\n",
      "7     108\n",
      "8      30\n",
      "9      86\n",
      "10    132\n",
      "11     19\n",
      "12     40\n",
      "13     22\n",
      "14    105\n",
      "15      7\n",
      "16     58\n",
      "17     43\n",
      "18    111\n",
      "19     64\n",
      "20     58\n",
      "21     95\n",
      "22    120\n",
      "23     36\n",
      "24     43\n",
      "25    121\n",
      "26    128\n",
      "27     46\n",
      "28    132\n",
      "29     93\n",
      "30     83\n",
      "31     61\n",
      "32     25\n",
      "33     79\n",
      "34     22\n",
      "dtype: int64\n"
     ]
    },
    {
     "data": {
      "text/plain": [
       "<AxesSubplot:>"
      ]
     },
     "execution_count": 54,
     "metadata": {},
     "output_type": "execute_result"
    },
    {
     "data": {
      "image/png": "[encoded data removed]",
      "text/plain": [
       "<Figure size 864x576 with 1 Axes>"
      ]
     },
     "metadata": {
      "needs_background": "light"
     },
     "output_type": "display_data"
    }
   ],
   "source": [
    "max_vals = df_component.idxmax(1)\n",
    "print(max_vals)\n",
    "max_vals.hist(bins=133, figsize=(12,8))"
   ]
  },
  {
   "cell_type": "markdown",
   "metadata": {},
   "source": [
    "## Classical Machine Learning"
   ]
  },
  {
   "cell_type": "code",
   "execution_count": 55,
   "metadata": {},
   "outputs": [],
   "source": [
    "# Helper to plot confusion matrix -- from Scikit-learn website\n",
    "def plot_confusion_matrix(cm, classes,\n",
    "                          normalize=False,\n",
    "                          title='Confusion matrix',\n",
    "                          cmap=plt.cm.Blues):\n",
    "    \"\"\"\n",
    "    This function prints and plots the confusion matrix.\n",
    "    Normalization can be applied by setting `normalize=True`.\n",
    "    \"\"\"\n",
    "    if normalize:\n",
    "        cm = cm.astype('float') / cm.sum(axis=1)[:, np.newaxis]\n",
    "\n",
    "    plt.imshow(cm, interpolation='nearest', cmap=cmap)\n",
    "    plt.title(title)\n",
    "    plt.colorbar()\n",
    "    tick_marks = np.arange(len(classes))\n",
    "    plt.xticks(tick_marks, classes, rotation=45)\n",
    "    plt.yticks(tick_marks, classes)\n",
    "\n",
    "    fmt = '.2f' if normalize else 'd'\n",
    "    thresh = cm.max() / 2.\n",
    "    for i, j in itertools.product(range(cm.shape[0]), range(cm.shape[1])):\n",
    "        plt.text(j, i, format(cm[i, j], fmt),\n",
    "                 horizontalalignment=\"center\",\n",
    "                 color=\"white\" if cm[i, j] > thresh else \"black\")\n",
    "\n",
    "    plt.ylabel('True label')\n",
    "    plt.xlabel('Predicted label')\n",
    "    plt.show()"
   ]
  },
  {
   "cell_type": "code",
   "execution_count": 56,
   "metadata": {},
   "outputs": [],
   "source": [
    "X_train, X_test, y_train, y_test = train_test_split(X, y, stratify=y)"
   ]
  },
  {
   "cell_type": "markdown",
   "metadata": {},
   "source": [
    "### Logistic Regression"
   ]
  },
  {
   "cell_type": "code",
   "execution_count": 57,
   "metadata": {},
   "outputs": [
    {
     "name": "stderr",
     "output_type": "stream",
     "text": [
      "C:\\Users\\user\\anaconda3\\envs\\ml38b\\lib\\site-packages\\sklearn\\model_selection\\_validation.py:372: FitFailedWarning: \n",
      "20 fits failed out of a total of 40.\n",
      "The score on these train-test partitions for these parameters will be set to nan.\n",
      "If these failures are not expected, you can try to debug them by setting error_score='raise'.\n",
      "\n",
      "Below are more details about the failures:\n",
      "--------------------------------------------------------------------------------\n",
      "20 fits failed with the following error:\n",
      "Traceback (most recent call last):\n",
      "  File \"C:\\Users\\user\\anaconda3\\envs\\ml38b\\lib\\site-packages\\sklearn\\model_selection\\_validation.py\", line 681, in _fit_and_score\n",
      "    estimator.fit(X_train, y_train, **fit_params)\n",
      "  File \"C:\\Users\\user\\anaconda3\\envs\\ml38b\\lib\\site-packages\\sklearn\\pipeline.py\", line 394, in fit\n",
      "    self._final_estimator.fit(Xt, y, **fit_params_last_step)\n",
      "  File \"C:\\Users\\user\\anaconda3\\envs\\ml38b\\lib\\site-packages\\sklearn\\linear_model\\_logistic.py\", line 1461, in fit\n",
      "    solver = _check_solver(self.solver, self.penalty, self.dual)\n",
      "  File \"C:\\Users\\user\\anaconda3\\envs\\ml38b\\lib\\site-packages\\sklearn\\linear_model\\_logistic.py\", line 447, in _check_solver\n",
      "    raise ValueError(\n",
      "ValueError: Solver lbfgs supports only 'l2' or 'none' penalties, got l1 penalty.\n",
      "\n",
      "  warnings.warn(some_fits_failed_message, FitFailedWarning)\n",
      "C:\\Users\\user\\anaconda3\\envs\\ml38b\\lib\\site-packages\\sklearn\\model_selection\\_search.py:969: UserWarning: One or more of the test scores are non-finite: [nan 0.8 nan 0.8 nan 0.8 nan 0.8]\n",
      "  warnings.warn(\n"
     ]
    },
    {
     "data": {
      "text/plain": [
       "GridSearchCV(cv=5,\n",
       "             estimator=Pipeline(steps=[('scale', StandardScaler()),\n",
       "                                       ('var_tresh',\n",
       "                                        VarianceThreshold(threshold=0.15999999999999998)),\n",
       "                                       ('feature_selection',\n",
       "                                        SelectFromModel(estimator=LGBMClassifier())),\n",
       "                                       ('cls', LogisticRegression())]),\n",
       "             n_jobs=6,\n",
       "             param_grid={'cls__C': [0.5, 1, 2, 5], 'cls__max_iter': [500],\n",
       "                         'cls__penalty': ['l1', 'l2']},\n",
       "             scoring='accuracy')"
      ]
     },
     "execution_count": 57,
     "metadata": {},
     "output_type": "execute_result"
    }
   ],
   "source": [
    "params = {\n",
    "    \"cls__penalty\": [\"l1\", \"l2\"], # penalty norms\n",
    "    \"cls__C\": [0.5, 1, 2, 5], # regularisation - smaller is stronger\n",
    "    \"cls__max_iter\": [500] # maximum number of iterations\n",
    "}\n",
    "\n",
    "pipe_lr = Pipeline([\n",
    "    ('scale', StandardScaler()),\n",
    "    ('var_tresh', VarianceThreshold(threshold=(.8 * (1 - .8)))),\n",
    "    ('feature_selection', SelectFromModel(lgbm.LGBMClassifier())),\n",
    "    ('cls', LogisticRegression())\n",
    "])\n",
    "\n",
    "grid_lr = GridSearchCV(pipe_lr, params, scoring='accuracy', n_jobs=6, cv=5)\n",
    "grid_lr.fit(X_train, y_train)"
   ]
  },
  {
   "cell_type": "code",
   "execution_count": 58,
   "metadata": {},
   "outputs": [
    {
     "name": "stdout",
     "output_type": "stream",
     "text": [
      "best score on validation set (accuracy) = 0.8000\n",
      "best score on test set (accuracy) = 1.0000\n"
     ]
    }
   ],
   "source": [
    "preds = grid_lr.predict(X_test)\n",
    "print(\"best score on validation set (accuracy) = {:.4f}\".format(grid_lr.best_score_))\n",
    "print(\"best score on test set (accuracy) = {:.4f}\".format(accuracy_score(y_test, preds)))"
   ]
  },
  {
   "cell_type": "markdown",
   "metadata": {},
   "source": [
    "### ElasticNet"
   ]
  },
  {
   "cell_type": "code",
   "execution_count": 26,
   "metadata": {},
   "outputs": [
    {
     "data": {
      "text/plain": [
       "GridSearchCV(cv=5,\n",
       "             estimator=Pipeline(steps=[('scale', StandardScaler()),\n",
       "                                       ('var_tresh',\n",
       "                                        VarianceThreshold(threshold=0.15999999999999998)),\n",
       "                                       ('feature_selection',\n",
       "                                        SelectFromModel(estimator=LGBMClassifier())),\n",
       "                                       ('cls', SGDClassifier())]),\n",
       "             n_jobs=6,\n",
       "             param_grid={'cls__l1_ratio': [0.15, 0.25, 0.5, 0.75],\n",
       "                         'cls__loss': ['log'], 'cls__penalty': ['elasticnet']},\n",
       "             scoring='accuracy')"
      ]
     },
     "execution_count": 26,
     "metadata": {},
     "output_type": "execute_result"
    }
   ],
   "source": [
    "params = {\n",
    "    \"cls__loss\": ['log'],\n",
    "    \"cls__penalty\": [\"elasticnet\"],\n",
    "    \"cls__l1_ratio\": [0.15, 0.25, 0.5, 0.75],\n",
    "}\n",
    "\n",
    "pipe_en = Pipeline([\n",
    "    ('scale', StandardScaler()),\n",
    "    ('var_tresh', VarianceThreshold(threshold=(.8 * (1 - .8)))),\n",
    "    ('feature_selection', SelectFromModel(lgbm.LGBMClassifier())),\n",
    "    ('cls', SGDClassifier())\n",
    "])\n",
    "\n",
    "grid_en = GridSearchCV(pipe_en, params, scoring='accuracy', n_jobs=6, cv=5)\n",
    "grid_en.fit(X_train, y_train)"
   ]
  },
  {
   "cell_type": "code",
   "execution_count": 27,
   "metadata": {},
   "outputs": [
    {
     "name": "stdout",
     "output_type": "stream",
     "text": [
      "best score on validation set (accuracy) = 0.8333\n",
      "best score on test set (accuracy) = 0.9000\n"
     ]
    }
   ],
   "source": [
    "preds = grid_en.predict(X_test)\n",
    "print(\"best score on validation set (accuracy) = {:.4f}\".format(grid_en.best_score_))\n",
    "print(\"best score on test set (accuracy) = {:.4f}\".format(accuracy_score(y_test, preds)))"
   ]
  },
  {
   "cell_type": "markdown",
   "metadata": {},
   "source": [
    "### Decision Tree"
   ]
  },
  {
   "cell_type": "code",
   "execution_count": 28,
   "metadata": {},
   "outputs": [
    {
     "data": {
      "text/plain": [
       "GridSearchCV(cv=5,\n",
       "             estimator=Pipeline(steps=[('var_tresh',\n",
       "                                        VarianceThreshold(threshold=0.15999999999999998)),\n",
       "                                       ('feature_selection',\n",
       "                                        SelectFromModel(estimator=LGBMClassifier())),\n",
       "                                       ('cls', DecisionTreeClassifier())]),\n",
       "             n_jobs=6,\n",
       "             param_grid={'cls__criterion': ['gini', 'entropy'],\n",
       "                         'cls__splitter': ['best', 'random']},\n",
       "             scoring='accuracy')"
      ]
     },
     "execution_count": 28,
     "metadata": {},
     "output_type": "execute_result"
    }
   ],
   "source": [
    "params = {\n",
    "    \"cls__criterion\": [\"gini\", \"entropy\"],\n",
    "    \"cls__splitter\": [\"best\", \"random\"],\n",
    "}\n",
    "\n",
    "pipe_cart = Pipeline([\n",
    "    ('var_tresh', VarianceThreshold(threshold=(.8 * (1 - .8)))),\n",
    "    ('feature_selection', SelectFromModel(lgbm.LGBMClassifier())),\n",
    "    ('cls', DecisionTreeClassifier())\n",
    "])\n",
    "\n",
    "grid_cart = GridSearchCV(pipe_cart, params, scoring='accuracy', n_jobs=6, cv=5)\n",
    "grid_cart.fit(X_train, y_train)"
   ]
  },
  {
   "cell_type": "code",
   "execution_count": 29,
   "metadata": {},
   "outputs": [
    {
     "name": "stdout",
     "output_type": "stream",
     "text": [
      "best score on validation set (accuracy) = 0.8333\n",
      "best score on test set (accuracy) = 0.9000\n"
     ]
    }
   ],
   "source": [
    "preds = grid_cart.predict(X_test)\n",
    "print(\"best score on validation set (accuracy) = {:.4f}\".format(grid_cart.best_score_))\n",
    "print(\"best score on test set (accuracy) = {:.4f}\".format(accuracy_score(y_test, preds)))"
   ]
  },
  {
   "cell_type": "markdown",
   "metadata": {},
   "source": [
    "### Random Forest"
   ]
  },
  {
   "cell_type": "code",
   "execution_count": 30,
   "metadata": {},
   "outputs": [
    {
     "data": {
      "text/plain": [
       "GridSearchCV(cv=5,\n",
       "             estimator=Pipeline(steps=[('var_tresh',\n",
       "                                        VarianceThreshold(threshold=0.15999999999999998)),\n",
       "                                       ('feature_selection',\n",
       "                                        SelectFromModel(estimator=LGBMClassifier())),\n",
       "                                       ('cls', RandomForestClassifier())]),\n",
       "             n_jobs=6,\n",
       "             param_grid={'cls__criterion': ['gini', 'entropy'],\n",
       "                         'cls__max_depth': [5, 7, None],\n",
       "                         'cls__n_estimators': [100, 250, 500, 1000]},\n",
       "             scoring='accuracy')"
      ]
     },
     "execution_count": 30,
     "metadata": {},
     "output_type": "execute_result"
    }
   ],
   "source": [
    "params = {\n",
    "    \"cls__n_estimators\": [100, 250, 500, 1000],\n",
    "    \"cls__criterion\": [\"gini\", \"entropy\"],\n",
    "    \"cls__max_depth\": [5, 7, None]\n",
    "}\n",
    "\n",
    "pipe_rf = Pipeline([\n",
    "    ('var_tresh', VarianceThreshold(threshold=(.8 * (1 - .8)))),\n",
    "    ('feature_selection', SelectFromModel(lgbm.LGBMClassifier())),\n",
    "    ('cls', RandomForestClassifier())\n",
    "])\n",
    "\n",
    "grid_rf = GridSearchCV(pipe_rf, params, scoring='accuracy', n_jobs=6, cv=5)\n",
    "grid_rf.fit(X_train, y_train)"
   ]
  },
  {
   "cell_type": "code",
   "execution_count": 31,
   "metadata": {},
   "outputs": [
    {
     "name": "stdout",
     "output_type": "stream",
     "text": [
      "best score on validation set (accuracy) = 0.9333\n",
      "best score on test set (accuracy) = 0.9000\n"
     ]
    }
   ],
   "source": [
    "preds = grid_rf.predict(X_test)\n",
    "print(\"best score on validation set (accuracy) = {:.4f}\".format(grid_rf.best_score_))\n",
    "print(\"best score on test set (accuracy) = {:.4f}\".format(accuracy_score(y_test, preds)))"
   ]
  },
  {
   "cell_type": "markdown",
   "metadata": {},
   "source": [
    "### SVM"
   ]
  },
  {
   "cell_type": "code",
   "execution_count": 32,
   "metadata": {},
   "outputs": [
    {
     "data": {
      "text/plain": [
       "GridSearchCV(cv=5,\n",
       "             estimator=Pipeline(steps=[('scale', StandardScaler()),\n",
       "                                       ('var_tresh',\n",
       "                                        VarianceThreshold(threshold=0.15999999999999998)),\n",
       "                                       ('feature_selection',\n",
       "                                        SelectFromModel(estimator=LGBMClassifier())),\n",
       "                                       ('cls', SVC())]),\n",
       "             n_jobs=6,\n",
       "             param_grid={'cls__C': [0.5, 1, 2, 5],\n",
       "                         'cls__kernel': ['rbf', 'linear', 'sigmoid']},\n",
       "             scoring='accuracy')"
      ]
     },
     "execution_count": 32,
     "metadata": {},
     "output_type": "execute_result"
    }
   ],
   "source": [
    "params = {\n",
    "    \"cls__C\": [0.5, 1, 2, 5],\n",
    "    \"cls__kernel\": ['rbf', 'linear', 'sigmoid'],\n",
    "}\n",
    "\n",
    "pipe_svm = Pipeline([\n",
    "    ('scale', StandardScaler()),\n",
    "    ('var_tresh', VarianceThreshold(threshold=(.8 * (1 - .8)))),\n",
    "    ('feature_selection', SelectFromModel(lgbm.LGBMClassifier())),\n",
    "    ('cls', SVC())\n",
    "])\n",
    "\n",
    "grid_svm = GridSearchCV(pipe_svm, params, scoring='accuracy', n_jobs=6, cv=5)\n",
    "grid_svm.fit(X_train, y_train)"
   ]
  },
  {
   "cell_type": "code",
   "execution_count": 33,
   "metadata": {},
   "outputs": [
    {
     "name": "stdout",
     "output_type": "stream",
     "text": [
      "best score on validation set (accuracy) = 0.8667\n",
      "best score on test set (accuracy) = 0.9000\n"
     ]
    }
   ],
   "source": [
    "preds = grid_svm.predict(X_test)\n",
    "print(\"best score on validation set (accuracy) = {:.4f}\".format(grid_svm.best_score_))\n",
    "print(\"best score on test set (accuracy) = {:.4f}\".format(accuracy_score(y_test, preds)))"
   ]
  },
  {
   "cell_type": "markdown",
   "metadata": {},
   "source": [
    "## Results and save the model"
   ]
  },
  {
   "cell_type": "code",
   "execution_count": 34,
   "metadata": {},
   "outputs": [],
   "source": [
    "cm = confusion_matrix(y_test, preds)\n",
    "classes = ['black', 'death']"
   ]
  },
  {
   "cell_type": "code",
   "execution_count": 35,
   "metadata": {},
   "outputs": [
    {
     "data": {
      "image/png": "[encoded data removed]",
      "text/plain": [
       "<Figure size 144x144 with 2 Axes>"
      ]
     },
     "metadata": {
      "needs_background": "light"
     },
     "output_type": "display_data"
    }
   ],
   "source": [
    "plt.figure(figsize=(2,2))\n",
    "plot_confusion_matrix(cm, classes, normalize=True)"
   ]
  },
  {
   "cell_type": "code",
   "execution_count": null,
   "metadata": {},
   "outputs": [],
   "source": [
    "import joblib"
   ]
  },
  {
   "cell_type": "code",
   "execution_count": null,
   "metadata": {},
   "outputs": [
    {
     "data": {
      "text/plain": [
       "['../Models/pipe_svm_balanced.joblib']"
      ]
     },
     "execution_count": 37,
     "metadata": {},
     "output_type": "execute_result"
    }
   ],
   "source": [
    "joblib.dump(grid_svm, \"../Models/pipe_svm_balanced.joblib\")"
   ]
  }
 ],
 "metadata": {
  "kernelspec": {
   "display_name": "Python 3",
   "language": "python",
   "name": "python3"
  },
  "language_info": {
   "codemirror_mode": {
    "name": "ipython",
    "version": 3
   },
   "file_extension": ".py",
   "mimetype": "text/x-python",
   "name": "python",
   "nbconvert_exporter": "python",
   "pygments_lexer": "ipython3",
   "version": "3.8.12"
  }
 },
 "nbformat": 4,
 "nbformat_minor": 2
}
