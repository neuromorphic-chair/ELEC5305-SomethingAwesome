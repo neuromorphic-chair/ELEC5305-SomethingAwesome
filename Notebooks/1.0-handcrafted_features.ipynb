{
 "cells": [
  {
   "cell_type": "markdown",
   "metadata": {},
   "source": [
    "# Hand-crafted features for GTZAN\n",
    "\n",
    "> The goal of this notebook is to create several audio features descriptors for the GTZAN dataset, as proposed for many year as input for machine learning algorithms. We are going to use timbral texture based features and tempo based features for this. The main goal is to produce this features, classify and then compare with our proposed deep learning approach, using CNNs on the raw audio.\n",
    "\n",
    "> This script is from https://github.com/Hguimaraes/gtzan.keras adapted to my case of 2 specific sub-genres"
   ]
  },
  {
   "cell_type": "code",
   "execution_count": 31,
   "metadata": {},
   "outputs": [],
   "source": [
    "import os\n",
    "import librosa\n",
    "import itertools\n",
    "import numpy as np\n",
    "import pandas as pd\n",
    "import matplotlib.pyplot as plt\n",
    "from scipy.stats import kurtosis\n",
    "from scipy.stats import skew"
   ]
  },
  {
   "cell_type": "code",
   "execution_count": 32,
   "metadata": {},
   "outputs": [],
   "source": [
    "import sklearn\n",
    "from sklearn.preprocessing import StandardScaler\n",
    "from sklearn.metrics import accuracy_score\n",
    "from sklearn.metrics import confusion_matrix\n",
    "from sklearn.pipeline import Pipeline\n",
    "from sklearn.feature_selection import SelectKBest\n",
    "from sklearn.model_selection import GridSearchCV\n",
    "from sklearn.model_selection import train_test_split\n",
    "\n",
    "from sklearn.decomposition import PCA\n",
    "from sklearn.manifold import TSNE\n",
    "from sklearn.discriminant_analysis import LinearDiscriminantAnalysis as LDA\n",
    "\n",
    "from sklearn.feature_selection import VarianceThreshold\n",
    "from sklearn.feature_selection import SelectFromModel\n",
    "\n",
    "import lightgbm as lgbm\n",
    "from sklearn.linear_model import LogisticRegression\n",
    "from sklearn.linear_model import SGDClassifier\n",
    "from sklearn.tree import DecisionTreeClassifier\n",
    "from sklearn.ensemble import RandomForestClassifier\n",
    "from sklearn.svm import SVC"
   ]
  },
  {
   "cell_type": "code",
   "execution_count": 33,
   "metadata": {},
   "outputs": [],
   "source": [
    "# Set the seed\n",
    "np.random.seed(42)"
   ]
  },
  {
   "cell_type": "code",
   "execution_count": 34,
   "metadata": {},
   "outputs": [],
   "source": [
    "gtzan_dir = '../Data/songs/full_test_set/'"
   ]
  },
  {
   "cell_type": "code",
   "execution_count": 35,
   "metadata": {},
   "outputs": [],
   "source": [
    "# Parameters\n",
    "song_samples = 22050*30\n",
    "genres = {'black': 0, 'death': 1}"
   ]
  },
  {
   "cell_type": "code",
   "execution_count": 36,
   "metadata": {},
   "outputs": [],
   "source": [
    "def get_features(y, sr, n_fft = 1024, hop_length = 512):\n",
    "    # Features to concatenate in the final dictionary\n",
    "    features = {'centroid': None, 'roloff': None, 'flux': None, 'rmse': None,\n",
    "                'zcr': None, 'contrast': None, 'bandwidth': None, 'flatness': None}\n",
    "    \n",
    "    # Count silence\n",
    "    if 0 < len(y):\n",
    "        y_sound, _ = librosa.effects.trim(y, frame_length=n_fft, hop_length=hop_length)\n",
    "    features['sample_silence'] = len(y) - len(y_sound)\n",
    "\n",
    "    # Using librosa to calculate the features\n",
    "    features['centroid'] = librosa.feature.spectral_centroid(y, sr=sr, n_fft=n_fft, hop_length=hop_length).ravel()\n",
    "    features['roloff'] = librosa.feature.spectral_rolloff(y, sr=sr, n_fft=n_fft, hop_length=hop_length).ravel()\n",
    "    features['zcr'] = librosa.feature.zero_crossing_rate(y, frame_length=n_fft, hop_length=hop_length).ravel()\n",
    "    features['rmse'] = librosa.feature.rms(y, frame_length=n_fft, hop_length=hop_length).ravel()\n",
    "    features['flux'] = librosa.onset.onset_strength(y=y, sr=sr).ravel()\n",
    "    features['contrast'] = librosa.feature.spectral_contrast(y, sr=sr).ravel()\n",
    "    features['bandwidth'] = librosa.feature.spectral_bandwidth(y, sr=sr, n_fft=n_fft, hop_length=hop_length).ravel()\n",
    "    features['flatness'] = librosa.feature.spectral_flatness(y, n_fft=n_fft, hop_length=hop_length).ravel()\n",
    "    \n",
    "    # MFCC treatment\n",
    "    mfcc = librosa.feature.mfcc(y, n_fft = n_fft, hop_length = hop_length, n_mfcc=13)\n",
    "    for idx, v_mfcc in enumerate(mfcc):\n",
    "        features['mfcc_{}'.format(idx)] = v_mfcc.ravel()\n",
    "        \n",
    "    # Get statistics from the vectors\n",
    "    def get_moments(descriptors):\n",
    "        result = {}\n",
    "        for k, v in descriptors.items():\n",
    "            result['{}_max'.format(k)] = np.max(v)\n",
    "            result['{}_min'.format(k)] = np.min(v)\n",
    "            result['{}_mean'.format(k)] = np.mean(v)\n",
    "            result['{}_std'.format(k)] = np.std(v)\n",
    "            result['{}_kurtosis'.format(k)] = kurtosis(v)\n",
    "            result['{}_skew'.format(k)] = skew(v)\n",
    "        return result\n",
    "    \n",
    "    dict_agg_features = get_moments(features)\n",
    "    dict_agg_features['tempo'] = librosa.beat.tempo(y, sr=sr)[0]\n",
    "    \n",
    "    return dict_agg_features"
   ]
  },
  {
   "cell_type": "code",
   "execution_count": 37,
   "metadata": {},
   "outputs": [],
   "source": [
    "def read_process_songs(src_dir, debug = True):    \n",
    "    # Empty array of dicts with the processed features from all files\n",
    "    arr_features = []\n",
    "\n",
    "    # Read files from the folders\n",
    "    for x,_ in genres.items():\n",
    "        folder = src_dir + x\n",
    "        \n",
    "        for root, subdirs, files in os.walk(folder):\n",
    "            for file in files:\n",
    "                # Read the audio file\n",
    "                file_name = folder + \"/\" + file\n",
    "                signal, sr = librosa.load(file_name)\n",
    "                \n",
    "                # Debug process\n",
    "                if debug:\n",
    "                    print(\"Reading file: {}\".format(file_name))\n",
    "                \n",
    "                # Append the result to the data structure\n",
    "                features = get_features(signal, sr)\n",
    "                features['genre'] = genres[x]\n",
    "                arr_features.append(features)\n",
    "    return arr_features"
   ]
  },
  {
   "cell_type": "code",
   "execution_count": 38,
   "metadata": {
    "scrolled": true
   },
   "outputs": [
    {
     "name": "stdout",
     "output_type": "stream",
     "text": [
      "Reading file: ../Data/songs/full_test_set/black/01 - Alsvartr (The Oath).flac\n",
      "Reading file: ../Data/songs/full_test_set/black/01 - Curse You All Men!.flac\n",
      "Reading file: ../Data/songs/full_test_set/black/01 - I Am the Black Wizards.flac\n",
      "Reading file: ../Data/songs/full_test_set/black/01 - The Loss and Curse of Reverence.flac\n"
     ]
    },
    {
     "name": "stderr",
     "output_type": "stream",
     "text": [
      "C:\\Users\\user\\anaconda3\\lib\\site-packages\\librosa\\core\\audio.py:161: UserWarning: PySoundFile failed. Trying audioread instead.\n",
      "  warnings.warn('PySoundFile failed. Trying audioread instead.')\n"
     ]
    },
    {
     "name": "stdout",
     "output_type": "stream",
     "text": [
      "Reading file: ../Data/songs/full_test_set/black/01. Freezing Moon - Mayhem.mp3\n",
      "Reading file: ../Data/songs/full_test_set/black/01. Funeral Fog - Mayhem.mp3\n",
      "Reading file: ../Data/songs/full_test_set/black/02 - Ancient Queen.flac\n",
      "Reading file: ../Data/songs/full_test_set/black/02 - Decrystallizing Reason.flac\n",
      "Reading file: ../Data/songs/full_test_set/black/02 - In Longing Spirit.flac\n",
      "Reading file: ../Data/songs/full_test_set/black/02 - Into The Infinity Of Thoughts.flac\n",
      "Reading file: ../Data/songs/full_test_set/black/02 - Wrath of the Tyrant.flac\n",
      "Reading file: ../Data/songs/full_test_set/black/02 - Ye Entrancemperium.flac\n",
      "Reading file: ../Data/songs/full_test_set/black/02. Freezing Moon - Mayhem.mp3\n",
      "Reading file: ../Data/songs/full_test_set/black/02. I Am Thy Labyrinth - Mayhem.mp3\n",
      "Reading file: ../Data/songs/full_test_set/black/02. Pagan Fears - Mayhem.mp3\n",
      "Reading file: ../Data/songs/full_test_set/black/03 - An Elegy Of Icaros.flac\n",
      "Reading file: ../Data/songs/full_test_set/black/03 - My Empire's Doom.flac\n",
      "Reading file: ../Data/songs/full_test_set/black/03 - Night of the Graveless Souls.flac\n",
      "Reading file: ../Data/songs/full_test_set/black/03 - Opus a Satana.flac\n",
      "Reading file: ../Data/songs/full_test_set/black/03 - The Burning Shadows Of Silence.flac\n",
      "Reading file: ../Data/songs/full_test_set/black/03 - Thus Spake The Nightspirit.flac\n",
      "Reading file: ../Data/songs/full_test_set/black/03. Buried By Time And Dust - Mayhem.mp3\n",
      "Reading file: ../Data/songs/full_test_set/black/03. Cursed In Eternity - Mayhem.mp3\n",
      "Reading file: ../Data/songs/full_test_set/black/03. Fall Of Seraphs - Mayhem.mp3\n",
      "Reading file: ../Data/songs/full_test_set/black/04 - Cosmic Keys To My Creations & Times.flac\n",
      "Reading file: ../Data/songs/full_test_set/black/04 - Ensorcelled By Rhaos.flac\n",
      "Reading file: ../Data/songs/full_test_set/black/04 - Forgotten Centuries.flac\n",
      "Reading file: ../Data/songs/full_test_set/black/04 - The Source Of Icon E.flac\n",
      "Reading file: ../Data/songs/full_test_set/black/04. Ancient Skin - Mayhem.mp3\n",
      "Reading file: ../Data/songs/full_test_set/black/04. Life Eternal - Mayhem.mp3\n",
      "Reading file: ../Data/songs/full_test_set/black/04. Pagan Fears - Mayhem.mp3\n",
      "Reading file: ../Data/songs/full_test_set/black/05 - Beyond The Great Vast Forest.flac\n",
      "Reading file: ../Data/songs/full_test_set/black/05 - Night of the Graveless Souls.flac\n",
      "Reading file: ../Data/songs/full_test_set/black/05 - Sworn.flac\n",
      "Reading file: ../Data/songs/full_test_set/black/05 - The Loss And Curse Of Reverence.flac\n",
      "Reading file: ../Data/songs/full_test_set/black/05. Funeral Fog - Mayhem.mp3\n",
      "Reading file: ../Data/songs/full_test_set/black/05. Life Eternal - Mayhem.mp3\n",
      "Reading file: ../Data/songs/full_test_set/black/05. Symbols Of Bloodswords - Mayhem.mp3\n",
      "Reading file: ../Data/songs/full_test_set/black/06 - Moon over Kara-Shehr.flac\n",
      "Reading file: ../Data/songs/full_test_set/black/06 - Nonus Aequilibrium.flac\n",
      "Reading file: ../Data/songs/full_test_set/black/06 - The Acclamation Of Bonds.flac\n",
      "Reading file: ../Data/songs/full_test_set/black/06 - Towards The Pantheon.flac\n",
      "Reading file: ../Data/songs/full_test_set/black/06. Cursed In Eternity - Mayhem.mp3\n",
      "Reading file: ../Data/songs/full_test_set/black/06. From The Dark Past - Mayhem.mp3\n",
      "Reading file: ../Data/songs/full_test_set/black/07 - The Majesty Of The Nightsky.flac\n",
      "Reading file: ../Data/songs/full_test_set/black/07 - The Warriors Of Modern Death.flac\n",
      "Reading file: ../Data/songs/full_test_set/black/07 - Witches Sabbath.flac\n",
      "Reading file: ../Data/songs/full_test_set/black/07 - With Strength I Burn.flac\n",
      "Reading file: ../Data/songs/full_test_set/black/07. Buried By Time And Dust - Mayhem.mp3\n",
      "Reading file: ../Data/songs/full_test_set/black/07. De Mysteriis Dom Sathanas - Mayhem.mp3\n",
      "Reading file: ../Data/songs/full_test_set/black/08 - I Am The Black Wizards.flac\n",
      "Reading file: ../Data/songs/full_test_set/black/08 - Lord of the Storms.flac\n",
      "Reading file: ../Data/songs/full_test_set/black/08 - Of Blindness & Subsequent Seers.flac\n",
      "Reading file: ../Data/songs/full_test_set/black/08 - The Wanderer.flac\n",
      "Reading file: ../Data/songs/full_test_set/black/08. De Mysteriis Dom Sathanas - Mayhem.mp3\n",
      "Reading file: ../Data/songs/full_test_set/black/09 - Inno A Satana.flac\n",
      "Reading file: ../Data/songs/full_test_set/black/09 - Untitled.flac\n",
      "Reading file: ../Data/songs/full_test_set/black/09 - Wrath of the Tyrant.flac\n",
      "Reading file: ../Data/songs/full_test_set/black/10 - Curse You All Men! (Live).flac\n",
      "Reading file: ../Data/songs/full_test_set/black/10 - Witches Sabbath.flac\n",
      "Reading file: ../Data/songs/full_test_set/black/11 - Ancient Queen.flac\n",
      "Reading file: ../Data/songs/full_test_set/black/11 - Sworn (Ulver Remix).flac\n",
      "Reading file: ../Data/songs/full_test_set/death/(01)_[Death]_Baptized_In_Blood_(Infernal_Death_Demo).flac\n",
      "Reading file: ../Data/songs/full_test_set/death/(01)_[Death]_Infernal_Death.flac\n",
      "Reading file: ../Data/songs/full_test_set/death/(01)_[Death]_Infernal_Death_(Infernal_Death_Demo_1985).flac\n",
      "Reading file: ../Data/songs/full_test_set/death/(01)_[Death]_Legion_Of_Doom_(Death_By_Metal_Demo).flac\n",
      "Reading file: ../Data/songs/full_test_set/death/(01)_[Mantas]_Legion_Of_Doom.flac\n",
      "Reading file: ../Data/songs/full_test_set/death/(01)_[Mantas]_Legion_Of_Doom_-_Take_1.flac\n",
      "Reading file: ../Data/songs/full_test_set/death/(01)_[Slaughter]_Evil_Dead.flac\n",
      "Reading file: ../Data/songs/full_test_set/death/(02)_[Death]_Archangel_(Infernal_Death_Demo).flac\n",
      "Reading file: ../Data/songs/full_test_set/death/(02)_[Death]_Baptized_In_Blood_(Infernal_Death_Demo_1985).flac\n",
      "Reading file: ../Data/songs/full_test_set/death/(02)_[Death]_Evil_Dead_(Death_By_Metal_Demo).flac\n",
      "Reading file: ../Data/songs/full_test_set/death/(02)_[Death]_Zombie_Ritual.flac\n",
      "Reading file: ../Data/songs/full_test_set/death/(02)_[Mantas]_Evil_Dead.flac\n",
      "Reading file: ../Data/songs/full_test_set/death/(02)_[Mantas]_Legion_Of_Doom_-_Take_2.flac\n",
      "Reading file: ../Data/songs/full_test_set/death/(02)_[Slaughter]_Legion_Of_Doom.flac\n",
      "Reading file: ../Data/songs/full_test_set/death/(03)_[Death]_Arch_Angel_(Infernal_Death_Demo_1985).flac\n",
      "Reading file: ../Data/songs/full_test_set/death/(03)_[Death]_Beyond_The_Unholy_Grave_(Death_By_Metal_Demo).flac\n",
      "Reading file: ../Data/songs/full_test_set/death/(03)_[Death]_Denial_Of_Life.flac\n",
      "Reading file: ../Data/songs/full_test_set/death/(03)_[Death]_Infernal_Death_(Infernal_Death_Demo).flac\n",
      "Reading file: ../Data/songs/full_test_set/death/(03)_[Mantas]_Legion_Of_Doom_-_Take_3.flac\n",
      "Reading file: ../Data/songs/full_test_set/death/(03)_[Mantas]_Mantas.flac\n",
      "Reading file: ../Data/songs/full_test_set/death/(03)_[Slaughter]_Nocturnal_Hell.flac\n",
      "Reading file: ../Data/songs/full_test_set/death/(04)_[Death]_Intro-Back_From_The_Dead_(Back_From_The_Dead_Demo).flac\n",
      "Reading file: ../Data/songs/full_test_set/death/(04)_[Death]_Intro_(Back_From_The_Dead_Demo_1986).flac\n",
      "Reading file: ../Data/songs/full_test_set/death/(04)_[Death]_Power_Of_Darkness_(Death_By_Metal_Demo).flac\n",
      "Reading file: ../Data/songs/full_test_set/death/(04)_[Death]_Sacrificial.flac\n",
      "Reading file: ../Data/songs/full_test_set/death/(04)_[Mantas]_Death_By_Metal.flac\n",
      "Reading file: ../Data/songs/full_test_set/death/(04)_[Mantas]_Evil_Dead_-_Take_1.flac\n",
      "Reading file: ../Data/songs/full_test_set/death/(04)_[Slaughter]_The_Curse.flac\n",
      "Reading file: ../Data/songs/full_test_set/death/(05)_[Death]_Back_From_The_Dead_(Back_From_The_Dead_Demo_1986).flac\n",
      "Reading file: ../Data/songs/full_test_set/death/(05)_[Death]_Death_By_Metal_(Death_By_Metal_Demo).flac\n",
      "Reading file: ../Data/songs/full_test_set/death/(05)_[Death]_Mutilation.flac\n",
      "Reading file: ../Data/songs/full_test_set/death/(05)_[Death]_Mutilation_(Back_From_The_Dead_Demo).flac\n",
      "Reading file: ../Data/songs/full_test_set/death/(05)_[Mantas]_Evil_Dead_-_Take_2.flac\n",
      "Reading file: ../Data/songs/full_test_set/death/(05)_[Mantas]_Power_Of_Darkness.flac\n",
      "Reading file: ../Data/songs/full_test_set/death/(05)_[Slaughter]_Fuck_Of_Death.flac\n",
      "Reading file: ../Data/songs/full_test_set/death/(06)_[Death]_Corpse_Grinder_(Reign_Of_Terror_Demo).flac\n",
      "Reading file: ../Data/songs/full_test_set/death/(06)_[Death]_Mutilation_(Back_From_The_Dead_Demo_1986).flac\n",
      "Reading file: ../Data/songs/full_test_set/death/(06)_[Death]_Regurgitated_Guts.flac\n"
     ]
    },
    {
     "name": "stdout",
     "output_type": "stream",
     "text": [
      "Reading file: ../Data/songs/full_test_set/death/(06)_[Death]_Reign_Of_Terror_(Back_From_The_Dead_Demo).flac\n",
      "Reading file: ../Data/songs/full_test_set/death/(06)_[Mantas]_Legion_Of_Doom.flac\n",
      "Reading file: ../Data/songs/full_test_set/death/(06)_[Mantas]_Mantas_-_Take_1.flac\n",
      "Reading file: ../Data/songs/full_test_set/death/(06)_[Slaughter]_Parisites.flac\n",
      "Reading file: ../Data/songs/full_test_set/death/(07)_[Death]_Baptized_In_Blood.flac\n",
      "Reading file: ../Data/songs/full_test_set/death/(07)_[Death]_Beyond_The_Unholy_Grave_(Back_From_The_Dead_Demo).flac\n",
      "Reading file: ../Data/songs/full_test_set/death/(07)_[Death]_Reign_Of_Death_(Back_From_The_Dead_Demo_1986).flac\n",
      "Reading file: ../Data/songs/full_test_set/death/(07)_[Death]_Summon_To_Die_(Reign_Of_Terror_Demo).flac\n",
      "Reading file: ../Data/songs/full_test_set/death/(07)_[Mantas]_Mantas_-_Take_2.flac\n",
      "Reading file: ../Data/songs/full_test_set/death/(07)_[Mantas]_Power_Of_Darkness.flac\n",
      "Reading file: ../Data/songs/full_test_set/death/(07)_[Slaughter]_One_Foot_In_The_Grave.flac\n",
      "Reading file: ../Data/songs/full_test_set/death/(08)_[Death]_Baptized_In_Blood_(Back_From_The_Dead_Demo).flac\n",
      "Reading file: ../Data/songs/full_test_set/death/(08)_[Death]_Beyond_The_Unholy_Grave_(Back_From_The_Dead_Demo_1986).flac\n",
      "Reading file: ../Data/songs/full_test_set/death/(08)_[Death]_Torn_To_Pieces.flac\n",
      "Reading file: ../Data/songs/full_test_set/death/(08)_[Death]_Zombie_(Reign_Of_Terror_Demo).flac\n",
      "Reading file: ../Data/songs/full_test_set/death/(08)_[Mantas]_Death_By_Metal.flac\n",
      "Reading file: ../Data/songs/full_test_set/death/(08)_[Mantas]_Legion_Of_Doom.flac\n",
      "Reading file: ../Data/songs/full_test_set/death/(08)_[Slaughter]_Maim_To_PleaseStrappado.flac\n",
      "Reading file: ../Data/songs/full_test_set/death/(09)_[Death]_Baptized_In_Blood_(Back_From_The_Dead_Demo_1986).flac\n",
      "Reading file: ../Data/songs/full_test_set/death/(09)_[Death]_Evil_Dead.flac\n",
      "Reading file: ../Data/songs/full_test_set/death/(09)_[Death]_Legion_Of_Doom_(Back_From_The_Dead_Demo).flac\n",
      "Reading file: ../Data/songs/full_test_set/death/(09)_[Death]_Witch_Of_Hell_(Reign_Of_Terror_Demo).flac\n",
      "Reading file: ../Data/songs/full_test_set/death/(09)_[Mantas]_Evil_Dead.flac\n",
      "Reading file: ../Data/songs/full_test_set/death/(09)_[Mantas]_Zombie.flac\n",
      "Reading file: ../Data/songs/full_test_set/death/(09)_[Slaughter]_Tortured_Souls.flac\n",
      "Reading file: ../Data/songs/full_test_set/death/(1)_[Death]_Leprosy.flac\n",
      "Reading file: ../Data/songs/full_test_set/death/(10)_[Death]_Legion_Of_Doom_(Back_From_The_Dead_Demo_1986).flac\n",
      "Reading file: ../Data/songs/full_test_set/death/(10)_[Death]_Reign_Of_Terror_(Reign_Of_Terror_Demo).flac\n",
      "Reading file: ../Data/songs/full_test_set/death/(10)_[Death]_Scream_Bloody_Gore.flac\n",
      "Reading file: ../Data/songs/full_test_set/death/(10)_[Death]_Skill_To_Kill_(Back_From_The_Dead_Demo).flac\n",
      "Reading file: ../Data/songs/full_test_set/death/(10)_[Mantas]_Demon_Flight.flac\n",
      "Reading file: ../Data/songs/full_test_set/death/(10)_[Mantas]_Legion_Of_Doom.flac\n",
      "Reading file: ../Data/songs/full_test_set/death/(10)_[Slaughter]_Death_Dealer.flac\n",
      "Reading file: ../Data/songs/full_test_set/death/(11)_[Death]_Beyond_The_Unholy_Grave.flac\n",
      "Reading file: ../Data/songs/full_test_set/death/(11)_[Death]_Land_Of_No_Return_(Mutilation_Demo).flac\n",
      "Reading file: ../Data/songs/full_test_set/death/(11)_[Death]_Skill_To_Kill_(Back_From_The_Dead_Demo_1986).flac\n",
      "Reading file: ../Data/songs/full_test_set/death/(11)_[Death]_Slaughterhouse_(Reign_Of_Terror_Demo).flac\n",
      "Reading file: ../Data/songs/full_test_set/death/(11)_[Mantas]_Death_By_Metal.flac\n",
      "Reading file: ../Data/songs/full_test_set/death/(11)_[Mantas]_Mantas.flac\n",
      "Reading file: ../Data/songs/full_test_set/death/(11)_[Slaughter]_Tyrant_Of_Hell.flac\n",
      "Reading file: ../Data/songs/full_test_set/death/(12)_[Death]_Fuck_Of_Death_(SLAUGHTER_With_Evil_Chuck_On_Vocals_1985).flac\n",
      "Reading file: ../Data/songs/full_test_set/death/(12)_[Death]_Land_Of_No_Return.flac\n",
      "Reading file: ../Data/songs/full_test_set/death/(12)_[Death]_Poison_(Rehearsal_1984).flac\n",
      "Reading file: ../Data/songs/full_test_set/death/(12)_[Death]_Zombie_Ritual_(Mutilation_Demo).flac\n",
      "Reading file: ../Data/songs/full_test_set/death/(12)_[Mantas]_Death_By_Metal.flac\n",
      "Reading file: ../Data/songs/full_test_set/death/(12)_[Mantas]_Evil_Dead.flac\n",
      "Reading file: ../Data/songs/full_test_set/death/(13)_[Death]_Death_By_Metal_(Rehearsal_1984).flac\n",
      "Reading file: ../Data/songs/full_test_set/death/(13)_[Death]_Land_Of_No_Return_(28.3.86_Rehearsal).flac\n",
      "Reading file: ../Data/songs/full_test_set/death/(13)_[Death]_Mutilation_(Mutilation_Demo).flac\n",
      "Reading file: ../Data/songs/full_test_set/death/(13)_[Mantas]_Evil_Dead.flac\n",
      "Reading file: ../Data/songs/full_test_set/death/(13)_[Mantas]_Power_Of_Darkness.flac\n",
      "Reading file: ../Data/songs/full_test_set/death/(14)_[Death]_Evil_Dead_(Rehearsal_1984).flac\n",
      "Reading file: ../Data/songs/full_test_set/death/(14)_[Death]_Regurgitated_Guts_(8-20-86).flac\n",
      "Reading file: ../Data/songs/full_test_set/death/(14)_[Death]_Zombie_Ritual_(28.3.86_Rehearsal).flac\n",
      "Reading file: ../Data/songs/full_test_set/death/(14)_[Mantas]_Black_Magic.flac\n",
      "Reading file: ../Data/songs/full_test_set/death/(14)_[Mantas]_Rise_Of_Satan.flac\n",
      "Reading file: ../Data/songs/full_test_set/death/(15)_[Death]_Sacrificial_Cunt_(8-20-86).flac\n",
      "Reading file: ../Data/songs/full_test_set/death/(15)_[Death]_Zombie_(Rehearsal_1984).flac\n",
      "Reading file: ../Data/songs/full_test_set/death/(15)_[Mantas]_Evil_Chuck_Solo.flac\n",
      "Reading file: ../Data/songs/full_test_set/death/(16)_[Death]_Black_Magic_(July_1984).flac\n",
      "Reading file: ../Data/songs/full_test_set/death/(16)_[Death]_Torn_To_Pieces_(8-20-86).flac\n",
      "Reading file: ../Data/songs/full_test_set/death/(16)_[Mantas]_Beyond_The_Unholy_Grave.flac\n",
      "Reading file: ../Data/songs/full_test_set/death/(17)_[Death]_Curse_Of_The_Priest_(Florida_1987).flac\n",
      "Reading file: ../Data/songs/full_test_set/death/(17)_[Mantas]_Poison.flac\n",
      "Reading file: ../Data/songs/full_test_set/death/(2)_[Death]_Born_Dead.flac\n",
      "Reading file: ../Data/songs/full_test_set/death/(3)_[Death]_Forgotten_Past.flac\n",
      "Reading file: ../Data/songs/full_test_set/death/(4)_[Death]_Left_To_Die.flac\n",
      "Reading file: ../Data/songs/full_test_set/death/(5)_[Death]_Pull_The_Plug.flac\n",
      "Reading file: ../Data/songs/full_test_set/death/(6)_[Death]_Open_Casket.flac\n",
      "Reading file: ../Data/songs/full_test_set/death/(7)_[Death]_Primitive_Ways.flac\n",
      "Reading file: ../Data/songs/full_test_set/death/(8)_[Death]_Choke_On_It.flac\n",
      "Reading file: ../Data/songs/full_test_set/death/01 - Bleed For The Devil.mp3\n",
      "Reading file: ../Data/songs/full_test_set/death/01 - Chapel Of Ghouls.mp3\n",
      "Reading file: ../Data/songs/full_test_set/death/01 - Immortal Rites.mp3\n",
      "Reading file: ../Data/songs/full_test_set/death/01 - Intro-The Heretic.mp3\n",
      "Reading file: ../Data/songs/full_test_set/death/01 - Morbid Angel - Funeralled.mp3\n",
      "Reading file: ../Data/songs/full_test_set/death/01 - Possessed - Death Metal (Demo 84).mp3\n",
      "Reading file: ../Data/songs/full_test_set/death/01 - Slaughter Lord - Taste Of Blood.mp3\n",
      "Reading file: ../Data/songs/full_test_set/death/01 - Thy Kingdom Come.mp3\n",
      "Reading file: ../Data/songs/full_test_set/death/01 confessions.mp3\n",
      "Reading file: ../Data/songs/full_test_set/death/01 Death Metal.mp3\n",
      "Reading file: ../Data/songs/full_test_set/death/01 Fallen Angel.mp3\n",
      "Reading file: ../Data/songs/full_test_set/death/01. Against The Innocent.mp3\n",
      "Reading file: ../Data/songs/full_test_set/death/01. Dehydrated.mp3\n",
      "Reading file: ../Data/songs/full_test_set/death/01. Internal Bleeding.mp3\n",
      "Reading file: ../Data/songs/full_test_set/death/01. Into Hades.mp3\n",
      "Reading file: ../Data/songs/full_test_set/death/01. Malleus Maleficarum _ Antropomorphia.mp3\n",
      "Reading file: ../Data/songs/full_test_set/death/01. Malleus Maleficarum, Antropomorphia.mp3\n",
      "Reading file: ../Data/songs/full_test_set/death/02 - Abominations.mp3\n",
      "Reading file: ../Data/songs/full_test_set/death/02 - Chapel Of Ghouls.mp3\n",
      "Reading file: ../Data/songs/full_test_set/death/02 - Possessed - Burning In Hell (Demo 84).mp3\n",
      "Reading file: ../Data/songs/full_test_set/death/02 - Slaughter Lord - Die By Power.mp3\n",
      "Reading file: ../Data/songs/full_test_set/death/02 - Suffocation.mp3\n",
      "Reading file: ../Data/songs/full_test_set/death/02 - Tribulation.mp3\n"
     ]
    },
    {
     "name": "stdout",
     "output_type": "stream",
     "text": [
      "Reading file: ../Data/songs/full_test_set/death/02 - Unholy Blasphemies.mp3\n",
      "Reading file: ../Data/songs/full_test_set/death/02 Evil Warriors.mp3\n",
      "Reading file: ../Data/songs/full_test_set/death/02 my belief.mp3\n",
      "Reading file: ../Data/songs/full_test_set/death/02 Swing of the Axe.Mp3\n",
      "Reading file: ../Data/songs/full_test_set/death/02. Before The Penance.mp3\n",
      "Reading file: ../Data/songs/full_test_set/death/02. Delirical Life.mp3\n",
      "Reading file: ../Data/songs/full_test_set/death/02. Godly Beings.mp3\n",
      "Reading file: ../Data/songs/full_test_set/death/02. Parricide.mp3\n",
      "Reading file: ../Data/songs/full_test_set/death/02. The Process Of Suffocation.mp3\n",
      "Reading file: ../Data/songs/full_test_set/death/03 - Abominations.mp3\n",
      "Reading file: ../Data/songs/full_test_set/death/03 - Blasphemy Of The Holy Ghost.mp3\n",
      "Reading file: ../Data/songs/full_test_set/death/03 - March To Die.mp3\n",
      "Reading file: ../Data/songs/full_test_set/death/03 - Possessed - Evil Warriors (Demo 84).mp3\n",
      "Reading file: ../Data/songs/full_test_set/death/03 - Visions From The Dark Side.mp3\n",
      "Reading file: ../Data/songs/full_test_set/death/03 Burning in Hell.mp3\n",
      "Reading file: ../Data/songs/full_test_set/death/03 Death Metal.mp3\n",
      "Reading file: ../Data/songs/full_test_set/death/03 the eyes of horror.mp3\n",
      "Reading file: ../Data/songs/full_test_set/death/03. 'Til Death.mp3\n",
      "Reading file: ../Data/songs/full_test_set/death/03. Affectation.mp3\n",
      "Reading file: ../Data/songs/full_test_set/death/03. Subordinate To The Domination.mp3\n",
      "Reading file: ../Data/songs/full_test_set/death/03. Suspended Animation.mp3\n",
      "Reading file: ../Data/songs/full_test_set/death/03. Traitor's Gate.mp3\n",
      "Reading file: ../Data/songs/full_test_set/death/04 - Hellspawn.mp3\n",
      "Reading file: ../Data/songs/full_test_set/death/04 - Maze Of Torment.mp3\n",
      "Reading file: ../Data/songs/full_test_set/death/04 - Morbid Angel.mp3\n",
      "Reading file: ../Data/songs/full_test_set/death/04 - Phantasm.mp3\n",
      "Reading file: ../Data/songs/full_test_set/death/04 - Possessed - Swing Of The Axe (Metal Massacre Vi).mp3\n",
      "Reading file: ../Data/songs/full_test_set/death/04 Fallen Angel.mp3\n",
      "Reading file: ../Data/songs/full_test_set/death/04 swing of the axe.mp3\n",
      "Reading file: ../Data/songs/full_test_set/death/04. Extreme Unction.mp3\n",
      "Reading file: ../Data/songs/full_test_set/death/04. Fight The Plague.mp3\n",
      "Reading file: ../Data/songs/full_test_set/death/04. Slowly We Rot.mp3\n",
      "Reading file: ../Data/songs/full_test_set/death/04. The Trauma.mp3\n",
      "Reading file: ../Data/songs/full_test_set/death/04. Throne Of Death.mp3\n",
      "Reading file: ../Data/songs/full_test_set/death/05 - Hellspawn.mp3\n",
      "Reading file: ../Data/songs/full_test_set/death/05 - Lord Of All Fevers And Plague.mp3\n",
      "Reading file: ../Data/songs/full_test_set/death/05 - No Will To Live.mp3\n",
      "Reading file: ../Data/songs/full_test_set/death/05 - Possessed - The Martyr's Wake (Demo 91).mp3\n",
      "Reading file: ../Data/songs/full_test_set/death/05 storm in my mind.mp3\n",
      "Reading file: ../Data/songs/full_test_set/death/05. Chronic Infection.mp3\n",
      "Reading file: ../Data/songs/full_test_set/death/05. Commandments.mp3\n",
      "Reading file: ../Data/songs/full_test_set/death/05. Immortal Visions.mp3\n",
      "Reading file: ../Data/songs/full_test_set/death/06 - Beyond The Gates.mp3\n",
      "Reading file: ../Data/songs/full_test_set/death/06 - Chapel Of Ghouls.mp3\n",
      "Reading file: ../Data/songs/full_test_set/death/06 - Possessed - The Seventh Sign (Demo 91).mp3\n",
      "Reading file: ../Data/songs/full_test_set/death/06. Chemo Therapy.mp3\n",
      "Reading file: ../Data/songs/full_test_set/death/06. Gates to Hell.mp3\n",
      "Reading file: ../Data/songs/full_test_set/death/06. Out Of The Body.mp3\n",
      "Reading file: ../Data/songs/full_test_set/death/07 - Bleed For The Devil.mp3\n",
      "Reading file: ../Data/songs/full_test_set/death/07 - Morbid Angel - Thy Kingdom Come (Demo 86).mp3\n",
      "Reading file: ../Data/songs/full_test_set/death/07 - The Beasts Of The Apocalypse.mp3\n",
      "Reading file: ../Data/songs/full_test_set/death/07. Bacterial Surgery.mp3\n",
      "Reading file: ../Data/songs/full_test_set/death/07. Echoes Of Death.mp3\n",
      "Reading file: ../Data/songs/full_test_set/death/07. Words of Evil.mp3\n",
      "Reading file: ../Data/songs/full_test_set/death/08 - Damnation.mp3\n",
      "Reading file: ../Data/songs/full_test_set/death/08 - Morbid Angel - Abominations (Demo 86).mp3\n",
      "Reading file: ../Data/songs/full_test_set/death/08 - Seance.mp3\n",
      "Reading file: ../Data/songs/full_test_set/death/08. Cycle Of Existence.mp3\n",
      "Reading file: ../Data/songs/full_test_set/death/08. Deify Thy Master.mp3\n",
      "Reading file: ../Data/songs/full_test_set/death/08. Suffocation.mp3\n",
      "Reading file: ../Data/songs/full_test_set/death/09 - Blasphemy.mp3\n",
      "Reading file: ../Data/songs/full_test_set/death/09 - Morbid Angel - Blasphemy Of The Holy Ghost (Demo 86).mp3\n",
      "Reading file: ../Data/songs/full_test_set/death/09 - Restless Dead.mp3\n",
      "Reading file: ../Data/songs/full_test_set/death/09. Intoxicated.mp3\n",
      "Reading file: ../Data/songs/full_test_set/death/09. Osculum Infame.mp3\n",
      "Reading file: ../Data/songs/full_test_set/death/09. Proliferous Souls.mp3\n",
      "Reading file: ../Data/songs/full_test_set/death/10 - Dog Fight.mp3\n",
      "Reading file: ../Data/songs/full_test_set/death/10 - Evil Spells.mp3\n",
      "Reading file: ../Data/songs/full_test_set/death/10 - Morbid Angel - Lord Of All Fevers & Plague (Bonus Track).mp3\n",
      "Reading file: ../Data/songs/full_test_set/death/10. Deadly Intentions.mp3\n",
      "Reading file: ../Data/songs/full_test_set/death/10. Reduced To Ashes.mp3\n",
      "Reading file: ../Data/songs/full_test_set/death/10. Systematic Instruction.mp3\n",
      "Reading file: ../Data/songs/full_test_set/death/11 - Maze Of Torment (Remix).mp3\n",
      "Reading file: ../Data/songs/full_test_set/death/11. Against The Innocent (Demo).mp3\n",
      "Reading file: ../Data/songs/full_test_set/death/11. Bloodsoaked.mp3\n",
      "Reading file: ../Data/songs/full_test_set/death/12 - Chapel Of Ghouls (Remix).mp3\n",
      "Reading file: ../Data/songs/full_test_set/death/12. Delirical Life (Demo).mp3\n",
      "Reading file: ../Data/songs/full_test_set/death/12. Stinkupuss.mp3\n",
      "Reading file: ../Data/songs/full_test_set/death/13 - Blasphemy (Remix).mp3\n",
      "Reading file: ../Data/songs/full_test_set/death/13. Find the Arise (demo).mp3\n",
      "Reading file: ../Data/songs/full_test_set/death/13. Traitor's Gate (Demo).mp3\n",
      "Reading file: ../Data/songs/full_test_set/death/14. Like the Dead (demo).mp3\n",
      "Reading file: ../Data/songs/full_test_set/death/14. Throne Of Death (Demo).mp3\n",
      "Reading file: ../Data/songs/full_test_set/death/15. Into Hades (Intro) (Demo).mp3\n",
      "Reading file: ../Data/songs/full_test_set/death/16. Before The Penance (Demo).mp3\n",
      "Reading file: ../Data/songs/full_test_set/death/17. Affectation (Demo).mp3\n",
      "Reading file: ../Data/songs/full_test_set/death/18. Fight The Plague (Demo).mp3\n",
      "Reading file: ../Data/songs/full_test_set/death/Possessed - 01 - The Exorcist.mp3\n",
      "Reading file: ../Data/songs/full_test_set/death/Possessed - 02 - Pentagram.mp3\n",
      "Reading file: ../Data/songs/full_test_set/death/Possessed - 03 - Burning In Hell.mp3\n",
      "Reading file: ../Data/songs/full_test_set/death/Possessed - 04 - Evil Warriors.mp3\n",
      "Reading file: ../Data/songs/full_test_set/death/Possessed - 05 - Seven Churches.mp3\n",
      "Reading file: ../Data/songs/full_test_set/death/Possessed - 06 - Satan Curse.mp3\n",
      "Reading file: ../Data/songs/full_test_set/death/Possessed - 07 - Holy Hell.mp3\n",
      "Reading file: ../Data/songs/full_test_set/death/Possessed - 08 - Twisted Minds.mp3\n",
      "Reading file: ../Data/songs/full_test_set/death/Possessed - 09 - Fallen Angel.mp3\n",
      "Reading file: ../Data/songs/full_test_set/death/Possessed - 10 - Death Metal.mp3\n",
      "Wall time: 59min 58s\n"
     ]
    }
   ],
   "source": [
    "%%time\n",
    "\n",
    "# Get list of dicts with features and convert to dataframe\n",
    "features = read_process_songs(gtzan_dir, debug=True)"
   ]
  },
  {
   "cell_type": "code",
   "execution_count": 39,
   "metadata": {},
   "outputs": [],
   "source": [
    "df_features = pd.DataFrame(features)"
   ]
  },
  {
   "cell_type": "code",
   "execution_count": 40,
   "metadata": {},
   "outputs": [
    {
     "data": {
      "text/plain": [
       "(291, 134)"
      ]
     },
     "execution_count": 40,
     "metadata": {},
     "output_type": "execute_result"
    }
   ],
   "source": [
    "df_features.shape"
   ]
  },
  {
   "cell_type": "code",
   "execution_count": 41,
   "metadata": {},
   "outputs": [
    {
     "data": {
      "text/html": [
       "<div>\n",
       "<style scoped>\n",
       "    .dataframe tbody tr th:only-of-type {\n",
       "        vertical-align: middle;\n",
       "    }\n",
       "\n",
       "    .dataframe tbody tr th {\n",
       "        vertical-align: top;\n",
       "    }\n",
       "\n",
       "    .dataframe thead th {\n",
       "        text-align: right;\n",
       "    }\n",
       "</style>\n",
       "<table border=\"1\" class=\"dataframe\">\n",
       "  <thead>\n",
       "    <tr style=\"text-align: right;\">\n",
       "      <th></th>\n",
       "      <th>centroid_max</th>\n",
       "      <th>centroid_min</th>\n",
       "      <th>centroid_mean</th>\n",
       "      <th>centroid_std</th>\n",
       "      <th>centroid_kurtosis</th>\n",
       "      <th>centroid_skew</th>\n",
       "      <th>roloff_max</th>\n",
       "      <th>roloff_min</th>\n",
       "      <th>roloff_mean</th>\n",
       "      <th>roloff_std</th>\n",
       "      <th>...</th>\n",
       "      <th>mfcc_11_kurtosis</th>\n",
       "      <th>mfcc_11_skew</th>\n",
       "      <th>mfcc_12_max</th>\n",
       "      <th>mfcc_12_min</th>\n",
       "      <th>mfcc_12_mean</th>\n",
       "      <th>mfcc_12_std</th>\n",
       "      <th>mfcc_12_kurtosis</th>\n",
       "      <th>mfcc_12_skew</th>\n",
       "      <th>tempo</th>\n",
       "      <th>genre</th>\n",
       "    </tr>\n",
       "  </thead>\n",
       "  <tbody>\n",
       "    <tr>\n",
       "      <th>0</th>\n",
       "      <td>5366.555252</td>\n",
       "      <td>224.975709</td>\n",
       "      <td>1680.340574</td>\n",
       "      <td>709.694408</td>\n",
       "      <td>1.692524</td>\n",
       "      <td>0.286574</td>\n",
       "      <td>9517.675781</td>\n",
       "      <td>322.998047</td>\n",
       "      <td>3551.075060</td>\n",
       "      <td>1585.882762</td>\n",
       "      <td>...</td>\n",
       "      <td>0.331983</td>\n",
       "      <td>-0.109051</td>\n",
       "      <td>31.156044</td>\n",
       "      <td>-42.992348</td>\n",
       "      <td>-5.029020</td>\n",
       "      <td>8.442566</td>\n",
       "      <td>0.331698</td>\n",
       "      <td>-0.061190</td>\n",
       "      <td>135.999178</td>\n",
       "      <td>0</td>\n",
       "    </tr>\n",
       "    <tr>\n",
       "      <th>1</th>\n",
       "      <td>5073.259902</td>\n",
       "      <td>7.177735</td>\n",
       "      <td>3003.446944</td>\n",
       "      <td>357.972377</td>\n",
       "      <td>8.647255</td>\n",
       "      <td>-1.440324</td>\n",
       "      <td>8613.281250</td>\n",
       "      <td>21.533203</td>\n",
       "      <td>5670.178501</td>\n",
       "      <td>655.297271</td>\n",
       "      <td>...</td>\n",
       "      <td>0.171707</td>\n",
       "      <td>0.009480</td>\n",
       "      <td>21.646343</td>\n",
       "      <td>-33.964592</td>\n",
       "      <td>-2.576588</td>\n",
       "      <td>5.945803</td>\n",
       "      <td>0.303430</td>\n",
       "      <td>-0.086397</td>\n",
       "      <td>123.046875</td>\n",
       "      <td>0</td>\n",
       "    </tr>\n",
       "    <tr>\n",
       "      <th>2</th>\n",
       "      <td>4332.286096</td>\n",
       "      <td>266.467565</td>\n",
       "      <td>2832.194658</td>\n",
       "      <td>405.332380</td>\n",
       "      <td>3.188325</td>\n",
       "      <td>-1.024099</td>\n",
       "      <td>8441.015625</td>\n",
       "      <td>43.066406</td>\n",
       "      <td>6050.883372</td>\n",
       "      <td>850.099320</td>\n",
       "      <td>...</td>\n",
       "      <td>0.003018</td>\n",
       "      <td>0.024411</td>\n",
       "      <td>20.567032</td>\n",
       "      <td>-32.945972</td>\n",
       "      <td>-11.351251</td>\n",
       "      <td>6.188563</td>\n",
       "      <td>0.525876</td>\n",
       "      <td>0.248399</td>\n",
       "      <td>123.046875</td>\n",
       "      <td>0</td>\n",
       "    </tr>\n",
       "    <tr>\n",
       "      <th>3</th>\n",
       "      <td>4026.014791</td>\n",
       "      <td>0.000000</td>\n",
       "      <td>2311.272187</td>\n",
       "      <td>379.290955</td>\n",
       "      <td>13.044327</td>\n",
       "      <td>-2.268059</td>\n",
       "      <td>8613.281250</td>\n",
       "      <td>0.000000</td>\n",
       "      <td>4520.091520</td>\n",
       "      <td>792.259824</td>\n",
       "      <td>...</td>\n",
       "      <td>0.351085</td>\n",
       "      <td>-0.281689</td>\n",
       "      <td>20.905645</td>\n",
       "      <td>-29.985462</td>\n",
       "      <td>-5.122252</td>\n",
       "      <td>6.252759</td>\n",
       "      <td>0.002494</td>\n",
       "      <td>0.016714</td>\n",
       "      <td>117.453835</td>\n",
       "      <td>0</td>\n",
       "    </tr>\n",
       "    <tr>\n",
       "      <th>4</th>\n",
       "      <td>5154.624935</td>\n",
       "      <td>0.000000</td>\n",
       "      <td>2210.144133</td>\n",
       "      <td>377.419962</td>\n",
       "      <td>5.809504</td>\n",
       "      <td>-0.581749</td>\n",
       "      <td>9259.277344</td>\n",
       "      <td>0.000000</td>\n",
       "      <td>4251.629390</td>\n",
       "      <td>698.090999</td>\n",
       "      <td>...</td>\n",
       "      <td>0.446954</td>\n",
       "      <td>0.181946</td>\n",
       "      <td>17.603210</td>\n",
       "      <td>-36.698788</td>\n",
       "      <td>-12.576807</td>\n",
       "      <td>6.459480</td>\n",
       "      <td>0.167415</td>\n",
       "      <td>0.255703</td>\n",
       "      <td>123.046875</td>\n",
       "      <td>0</td>\n",
       "    </tr>\n",
       "  </tbody>\n",
       "</table>\n",
       "<p>5 rows × 134 columns</p>\n",
       "</div>"
      ],
      "text/plain": [
       "   centroid_max  centroid_min  centroid_mean  centroid_std  centroid_kurtosis  \\\n",
       "0   5366.555252    224.975709    1680.340574    709.694408           1.692524   \n",
       "1   5073.259902      7.177735    3003.446944    357.972377           8.647255   \n",
       "2   4332.286096    266.467565    2832.194658    405.332380           3.188325   \n",
       "3   4026.014791      0.000000    2311.272187    379.290955          13.044327   \n",
       "4   5154.624935      0.000000    2210.144133    377.419962           5.809504   \n",
       "\n",
       "   centroid_skew   roloff_max  roloff_min  roloff_mean   roloff_std  ...  \\\n",
       "0       0.286574  9517.675781  322.998047  3551.075060  1585.882762  ...   \n",
       "1      -1.440324  8613.281250   21.533203  5670.178501   655.297271  ...   \n",
       "2      -1.024099  8441.015625   43.066406  6050.883372   850.099320  ...   \n",
       "3      -2.268059  8613.281250    0.000000  4520.091520   792.259824  ...   \n",
       "4      -0.581749  9259.277344    0.000000  4251.629390   698.090999  ...   \n",
       "\n",
       "   mfcc_11_kurtosis  mfcc_11_skew  mfcc_12_max  mfcc_12_min  mfcc_12_mean  \\\n",
       "0          0.331983     -0.109051    31.156044   -42.992348     -5.029020   \n",
       "1          0.171707      0.009480    21.646343   -33.964592     -2.576588   \n",
       "2          0.003018      0.024411    20.567032   -32.945972    -11.351251   \n",
       "3          0.351085     -0.281689    20.905645   -29.985462     -5.122252   \n",
       "4          0.446954      0.181946    17.603210   -36.698788    -12.576807   \n",
       "\n",
       "   mfcc_12_std  mfcc_12_kurtosis  mfcc_12_skew       tempo  genre  \n",
       "0     8.442566          0.331698     -0.061190  135.999178      0  \n",
       "1     5.945803          0.303430     -0.086397  123.046875      0  \n",
       "2     6.188563          0.525876      0.248399  123.046875      0  \n",
       "3     6.252759          0.002494      0.016714  117.453835      0  \n",
       "4     6.459480          0.167415      0.255703  123.046875      0  \n",
       "\n",
       "[5 rows x 134 columns]"
      ]
     },
     "execution_count": 41,
     "metadata": {},
     "output_type": "execute_result"
    }
   ],
   "source": [
    "df_features.head()"
   ]
  },
  {
   "cell_type": "code",
   "execution_count": 42,
   "metadata": {},
   "outputs": [],
   "source": [
    "df_features.to_csv('../data/full_test_set_features.csv', index=False)"
   ]
  },
  {
   "cell_type": "code",
   "execution_count": 43,
   "metadata": {},
   "outputs": [],
   "source": [
    "X = df_features.drop(['genre'], axis=1).values\n",
    "y = df_features['genre'].values"
   ]
  },
  {
   "cell_type": "markdown",
   "metadata": {},
   "source": [
    "## Visualization\n",
    "\n",
    "> Linear (and nonlinear) dimensionality reduction of the GTZAN features for visualization purposes"
   ]
  },
  {
   "cell_type": "code",
   "execution_count": 44,
   "metadata": {},
   "outputs": [],
   "source": [
    "# Standartize the dataset\n",
    "scale = StandardScaler()\n",
    "x_scaled = scale.fit_transform(X)"
   ]
  },
  {
   "cell_type": "code",
   "execution_count": 45,
   "metadata": {},
   "outputs": [
    {
     "name": "stdout",
     "output_type": "stream",
     "text": [
      "cumulative explained variance ratio = 0.8823\n"
     ]
    }
   ],
   "source": [
    "# Use PCA only for visualization\n",
    "pca = PCA(n_components=35, whiten=True)\n",
    "x_pca = pca.fit_transform(x_scaled)\n",
    "print(\"cumulative explained variance ratio = {:.4f}\".format(np.sum(pca.explained_variance_ratio_)))"
   ]
  },
  {
   "cell_type": "code",
   "execution_count": 46,
   "metadata": {},
   "outputs": [],
   "source": [
    "# Use LDA only for visualization\n",
    "lda = LDA()\n",
    "x_lda = lda.fit_transform(x_scaled, y)"
   ]
  },
  {
   "cell_type": "code",
   "execution_count": 47,
   "metadata": {},
   "outputs": [
    {
     "name": "stdout",
     "output_type": "stream",
     "text": [
      "[t-SNE] Computing 91 nearest neighbors...\n",
      "[t-SNE] Indexed 291 samples in 0.010s...\n",
      "[t-SNE] Computed neighbors for 291 samples in 0.026s...\n",
      "[t-SNE] Computed conditional probabilities for sample 291 / 291\n",
      "[t-SNE] Mean sigma: 4.918936\n",
      "[t-SNE] KL divergence after 250 iterations with early exaggeration: 66.163414\n",
      "[t-SNE] KL divergence after 1000 iterations: 0.495649\n"
     ]
    }
   ],
   "source": [
    "# Using tsne\n",
    "tsne = TSNE(n_components=2, verbose=1, learning_rate=250)\n",
    "x_tsne = tsne.fit_transform(x_scaled)"
   ]
  },
  {
   "cell_type": "code",
   "execution_count": 50,
   "metadata": {},
   "outputs": [
    {
     "name": "stdout",
     "output_type": "stream",
     "text": [
      "(291, 35)\n",
      "(291, 1)\n"
     ]
    },
    {
     "ename": "IndexError",
     "evalue": "index 1 is out of bounds for axis 1 with size 1",
     "output_type": "error",
     "traceback": [
      "\u001b[1;31m---------------------------------------------------------------------------\u001b[0m",
      "\u001b[1;31mIndexError\u001b[0m                                Traceback (most recent call last)",
      "\u001b[1;32m<ipython-input-50-f191811f55e4>\u001b[0m in \u001b[0;36m<module>\u001b[1;34m\u001b[0m\n\u001b[0;32m      8\u001b[0m \u001b[0mplt\u001b[0m\u001b[1;33m.\u001b[0m\u001b[0msubplot\u001b[0m\u001b[1;33m(\u001b[0m\u001b[1;36m132\u001b[0m\u001b[1;33m)\u001b[0m\u001b[1;33m\u001b[0m\u001b[1;33m\u001b[0m\u001b[0m\n\u001b[0;32m      9\u001b[0m \u001b[0mprint\u001b[0m\u001b[1;33m(\u001b[0m\u001b[0mx_lda\u001b[0m\u001b[1;33m.\u001b[0m\u001b[0mshape\u001b[0m\u001b[1;33m)\u001b[0m\u001b[1;33m\u001b[0m\u001b[1;33m\u001b[0m\u001b[0m\n\u001b[1;32m---> 10\u001b[1;33m \u001b[0mplt\u001b[0m\u001b[1;33m.\u001b[0m\u001b[0mscatter\u001b[0m\u001b[1;33m(\u001b[0m\u001b[0mx_lda\u001b[0m\u001b[1;33m[\u001b[0m\u001b[1;33m:\u001b[0m\u001b[1;33m,\u001b[0m\u001b[1;36m0\u001b[0m\u001b[1;33m]\u001b[0m\u001b[1;33m,\u001b[0m \u001b[0mx_lda\u001b[0m\u001b[1;33m[\u001b[0m\u001b[1;33m:\u001b[0m\u001b[1;33m,\u001b[0m\u001b[1;36m1\u001b[0m\u001b[1;33m]\u001b[0m\u001b[1;33m,\u001b[0m \u001b[0mc\u001b[0m\u001b[1;33m=\u001b[0m\u001b[0my\u001b[0m\u001b[1;33m)\u001b[0m\u001b[1;33m\u001b[0m\u001b[1;33m\u001b[0m\u001b[0m\n\u001b[0m\u001b[0;32m     11\u001b[0m \u001b[0mplt\u001b[0m\u001b[1;33m.\u001b[0m\u001b[0mcolorbar\u001b[0m\u001b[1;33m(\u001b[0m\u001b[1;33m)\u001b[0m\u001b[1;33m\u001b[0m\u001b[1;33m\u001b[0m\u001b[0m\n\u001b[0;32m     12\u001b[0m \u001b[0mplt\u001b[0m\u001b[1;33m.\u001b[0m\u001b[0mtitle\u001b[0m\u001b[1;33m(\u001b[0m\u001b[1;34m\"Embedded space with LDA\"\u001b[0m\u001b[1;33m)\u001b[0m\u001b[1;33m\u001b[0m\u001b[1;33m\u001b[0m\u001b[0m\n",
      "\u001b[1;31mIndexError\u001b[0m: index 1 is out of bounds for axis 1 with size 1"
     ]
    },
    {
     "data": {
      "image/png": "[encoded data removed]",
      "text/plain": [
       "<Figure size 1296x288 with 3 Axes>"
      ]
     },
     "metadata": {
      "needs_background": "light"
     },
     "output_type": "display_data"
    }
   ],
   "source": [
    "plt.figure(figsize=(18, 4))\n",
    "plt.subplot(131)\n",
    "print(x_pca.shape)\n",
    "plt.scatter(x_pca[:,0], x_pca[:,1], c=y)\n",
    "plt.colorbar()\n",
    "plt.title(\"Embedded space with PCA\")\n",
    "\n",
    "plt.subplot(132)\n",
    "print(x_lda.shape)\n",
    "plt.scatter(x_lda[:,0], x_lda[:,1], c=y)\n",
    "plt.colorbar()\n",
    "plt.title(\"Embedded space with LDA\")\n",
    "\n",
    "plt.subplot(133)\n",
    "plt.scatter(x_tsne[:,0], x_tsne[:,1], c=y)\n",
    "plt.colorbar()\n",
    "plt.title(\"Embedded space with TSNE\")\n",
    "plt.show()"
   ]
  },
  {
   "cell_type": "markdown",
   "metadata": {},
   "source": [
    "## Classical Machine Learning"
   ]
  },
  {
   "cell_type": "code",
   "execution_count": 51,
   "metadata": {},
   "outputs": [],
   "source": [
    "# Helper to plot confusion matrix -- from Scikit-learn website\n",
    "def plot_confusion_matrix(cm, classes,\n",
    "                          normalize=False,\n",
    "                          title='Confusion matrix',\n",
    "                          cmap=plt.cm.Blues):\n",
    "    \"\"\"\n",
    "    This function prints and plots the confusion matrix.\n",
    "    Normalization can be applied by setting `normalize=True`.\n",
    "    \"\"\"\n",
    "    if normalize:\n",
    "        cm = cm.astype('float') / cm.sum(axis=1)[:, np.newaxis]\n",
    "\n",
    "    plt.imshow(cm, interpolation='nearest', cmap=cmap)\n",
    "    plt.title(title)\n",
    "    plt.colorbar()\n",
    "    tick_marks = np.arange(len(classes))\n",
    "    plt.xticks(tick_marks, classes, rotation=45)\n",
    "    plt.yticks(tick_marks, classes)\n",
    "\n",
    "    fmt = '.2f' if normalize else 'd'\n",
    "    thresh = cm.max() / 2.\n",
    "    for i, j in itertools.product(range(cm.shape[0]), range(cm.shape[1])):\n",
    "        plt.text(j, i, format(cm[i, j], fmt),\n",
    "                 horizontalalignment=\"center\",\n",
    "                 color=\"white\" if cm[i, j] > thresh else \"black\")\n",
    "\n",
    "    plt.ylabel('True label')\n",
    "    plt.xlabel('Predicted label')\n",
    "    plt.show()"
   ]
  },
  {
   "cell_type": "code",
   "execution_count": 52,
   "metadata": {},
   "outputs": [],
   "source": [
    "X_train, X_test, y_train, y_test = train_test_split(X, y, stratify=y)"
   ]
  },
  {
   "cell_type": "markdown",
   "metadata": {},
   "source": [
    "### Logistic Regression"
   ]
  },
  {
   "cell_type": "code",
   "execution_count": 53,
   "metadata": {},
   "outputs": [
    {
     "data": {
      "text/plain": [
       "GridSearchCV(cv=5,\n",
       "             estimator=Pipeline(steps=[('scale', StandardScaler()),\n",
       "                                       ('var_tresh',\n",
       "                                        VarianceThreshold(threshold=0.15999999999999998)),\n",
       "                                       ('feature_selection',\n",
       "                                        SelectFromModel(estimator=LGBMClassifier())),\n",
       "                                       ('cls', LogisticRegression())]),\n",
       "             n_jobs=6,\n",
       "             param_grid={'cls__C': [0.5, 1, 2, 5], 'cls__max_iter': [500],\n",
       "                         'cls__penalty': ['l1', 'l2']},\n",
       "             scoring='accuracy')"
      ]
     },
     "execution_count": 53,
     "metadata": {},
     "output_type": "execute_result"
    }
   ],
   "source": [
    "params = {\n",
    "    \"cls__penalty\": [\"l1\", \"l2\"], # penalty norms\n",
    "    \"cls__C\": [0.5, 1, 2, 5], # regularisation - smaller is stronger\n",
    "    \"cls__max_iter\": [500] # maximum number of iterations\n",
    "}\n",
    "\n",
    "pipe_lr = Pipeline([\n",
    "    ('scale', StandardScaler()),\n",
    "    ('var_tresh', VarianceThreshold(threshold=(.8 * (1 - .8)))),\n",
    "    ('feature_selection', SelectFromModel(lgbm.LGBMClassifier())),\n",
    "    ('cls', LogisticRegression())\n",
    "])\n",
    "\n",
    "grid_lr = GridSearchCV(pipe_lr, params, scoring='accuracy', n_jobs=6, cv=5)\n",
    "grid_lr.fit(X_train, y_train)"
   ]
  },
  {
   "cell_type": "code",
   "execution_count": 54,
   "metadata": {},
   "outputs": [
    {
     "name": "stdout",
     "output_type": "stream",
     "text": [
      "best score on validation set (accuracy) = 0.9589\n",
      "best score on test set (accuracy) = 0.9315\n"
     ]
    }
   ],
   "source": [
    "preds = grid_lr.predict(X_test)\n",
    "print(\"best score on validation set (accuracy) = {:.4f}\".format(grid_lr.best_score_))\n",
    "print(\"best score on test set (accuracy) = {:.4f}\".format(accuracy_score(y_test, preds)))"
   ]
  },
  {
   "cell_type": "markdown",
   "metadata": {},
   "source": [
    "### ElasticNet"
   ]
  },
  {
   "cell_type": "code",
   "execution_count": 55,
   "metadata": {},
   "outputs": [
    {
     "data": {
      "text/plain": [
       "GridSearchCV(cv=5,\n",
       "             estimator=Pipeline(steps=[('scale', StandardScaler()),\n",
       "                                       ('var_tresh',\n",
       "                                        VarianceThreshold(threshold=0.15999999999999998)),\n",
       "                                       ('feature_selection',\n",
       "                                        SelectFromModel(estimator=LGBMClassifier())),\n",
       "                                       ('cls', SGDClassifier())]),\n",
       "             n_jobs=6,\n",
       "             param_grid={'cls__l1_ratio': [0.15, 0.25, 0.5, 0.75],\n",
       "                         'cls__loss': ['log'], 'cls__penalty': ['elasticnet']},\n",
       "             scoring='accuracy')"
      ]
     },
     "execution_count": 55,
     "metadata": {},
     "output_type": "execute_result"
    }
   ],
   "source": [
    "params = {\n",
    "    \"cls__loss\": ['log'],\n",
    "    \"cls__penalty\": [\"elasticnet\"],\n",
    "    \"cls__l1_ratio\": [0.15, 0.25, 0.5, 0.75],\n",
    "}\n",
    "\n",
    "pipe_en = Pipeline([\n",
    "    ('scale', StandardScaler()),\n",
    "    ('var_tresh', VarianceThreshold(threshold=(.8 * (1 - .8)))),\n",
    "    ('feature_selection', SelectFromModel(lgbm.LGBMClassifier())),\n",
    "    ('cls', SGDClassifier())\n",
    "])\n",
    "\n",
    "grid_en = GridSearchCV(pipe_en, params, scoring='accuracy', n_jobs=6, cv=5)\n",
    "grid_en.fit(X_train, y_train)"
   ]
  },
  {
   "cell_type": "code",
   "execution_count": 56,
   "metadata": {},
   "outputs": [
    {
     "name": "stdout",
     "output_type": "stream",
     "text": [
      "best score on validation set (accuracy) = 0.9632\n",
      "best score on test set (accuracy) = 0.9315\n"
     ]
    }
   ],
   "source": [
    "preds = grid_en.predict(X_test)\n",
    "print(\"best score on validation set (accuracy) = {:.4f}\".format(grid_en.best_score_))\n",
    "print(\"best score on test set (accuracy) = {:.4f}\".format(accuracy_score(y_test, preds)))"
   ]
  },
  {
   "cell_type": "markdown",
   "metadata": {},
   "source": [
    "### Decision Tree"
   ]
  },
  {
   "cell_type": "code",
   "execution_count": 57,
   "metadata": {},
   "outputs": [
    {
     "data": {
      "text/plain": [
       "GridSearchCV(cv=5,\n",
       "             estimator=Pipeline(steps=[('var_tresh',\n",
       "                                        VarianceThreshold(threshold=0.15999999999999998)),\n",
       "                                       ('feature_selection',\n",
       "                                        SelectFromModel(estimator=LGBMClassifier())),\n",
       "                                       ('cls', DecisionTreeClassifier())]),\n",
       "             n_jobs=6,\n",
       "             param_grid={'cls__criterion': ['gini', 'entropy'],\n",
       "                         'cls__splitter': ['best', 'random']},\n",
       "             scoring='accuracy')"
      ]
     },
     "execution_count": 57,
     "metadata": {},
     "output_type": "execute_result"
    }
   ],
   "source": [
    "params = {\n",
    "    \"cls__criterion\": [\"gini\", \"entropy\"],\n",
    "    \"cls__splitter\": [\"best\", \"random\"],\n",
    "}\n",
    "\n",
    "pipe_cart = Pipeline([\n",
    "    ('var_tresh', VarianceThreshold(threshold=(.8 * (1 - .8)))),\n",
    "    ('feature_selection', SelectFromModel(lgbm.LGBMClassifier())),\n",
    "    ('cls', DecisionTreeClassifier())\n",
    "])\n",
    "\n",
    "grid_cart = GridSearchCV(pipe_cart, params, scoring='accuracy', n_jobs=6, cv=5)\n",
    "grid_cart.fit(X_train, y_train)"
   ]
  },
  {
   "cell_type": "code",
   "execution_count": 58,
   "metadata": {},
   "outputs": [
    {
     "name": "stdout",
     "output_type": "stream",
     "text": [
      "best score on validation set (accuracy) = 0.9224\n",
      "best score on test set (accuracy) = 0.8493\n"
     ]
    }
   ],
   "source": [
    "preds = grid_cart.predict(X_test)\n",
    "print(\"best score on validation set (accuracy) = {:.4f}\".format(grid_cart.best_score_))\n",
    "print(\"best score on test set (accuracy) = {:.4f}\".format(accuracy_score(y_test, preds)))"
   ]
  },
  {
   "cell_type": "markdown",
   "metadata": {},
   "source": [
    "### Random Forest"
   ]
  },
  {
   "cell_type": "code",
   "execution_count": 59,
   "metadata": {},
   "outputs": [
    {
     "data": {
      "text/plain": [
       "GridSearchCV(cv=5,\n",
       "             estimator=Pipeline(steps=[('var_tresh',\n",
       "                                        VarianceThreshold(threshold=0.15999999999999998)),\n",
       "                                       ('feature_selection',\n",
       "                                        SelectFromModel(estimator=LGBMClassifier())),\n",
       "                                       ('cls', RandomForestClassifier())]),\n",
       "             n_jobs=6,\n",
       "             param_grid={'cls__criterion': ['gini', 'entropy'],\n",
       "                         'cls__max_depth': [5, 7, None],\n",
       "                         'cls__n_estimators': [100, 250, 500, 1000]},\n",
       "             scoring='accuracy')"
      ]
     },
     "execution_count": 59,
     "metadata": {},
     "output_type": "execute_result"
    }
   ],
   "source": [
    "params = {\n",
    "    \"cls__n_estimators\": [100, 250, 500, 1000],\n",
    "    \"cls__criterion\": [\"gini\", \"entropy\"],\n",
    "    \"cls__max_depth\": [5, 7, None]\n",
    "}\n",
    "\n",
    "pipe_rf = Pipeline([\n",
    "    ('var_tresh', VarianceThreshold(threshold=(.8 * (1 - .8)))),\n",
    "    ('feature_selection', SelectFromModel(lgbm.LGBMClassifier())),\n",
    "    ('cls', RandomForestClassifier())\n",
    "])\n",
    "\n",
    "grid_rf = GridSearchCV(pipe_rf, params, scoring='accuracy', n_jobs=6, cv=5)\n",
    "grid_rf.fit(X_train, y_train)"
   ]
  },
  {
   "cell_type": "code",
   "execution_count": 60,
   "metadata": {},
   "outputs": [
    {
     "name": "stdout",
     "output_type": "stream",
     "text": [
      "best score on validation set (accuracy) = 0.9362\n",
      "best score on test set (accuracy) = 0.8493\n"
     ]
    }
   ],
   "source": [
    "preds = grid_rf.predict(X_test)\n",
    "print(\"best score on validation set (accuracy) = {:.4f}\".format(grid_rf.best_score_))\n",
    "print(\"best score on test set (accuracy) = {:.4f}\".format(accuracy_score(y_test, preds)))"
   ]
  },
  {
   "cell_type": "markdown",
   "metadata": {},
   "source": [
    "### SVM"
   ]
  },
  {
   "cell_type": "code",
   "execution_count": 61,
   "metadata": {},
   "outputs": [
    {
     "data": {
      "text/plain": [
       "GridSearchCV(cv=5,\n",
       "             estimator=Pipeline(steps=[('scale', StandardScaler()),\n",
       "                                       ('var_tresh',\n",
       "                                        VarianceThreshold(threshold=0.15999999999999998)),\n",
       "                                       ('feature_selection',\n",
       "                                        SelectFromModel(estimator=LGBMClassifier())),\n",
       "                                       ('cls', SVC())]),\n",
       "             n_jobs=6,\n",
       "             param_grid={'cls__C': [0.5, 1, 2, 5],\n",
       "                         'cls__kernel': ['rbf', 'linear', 'sigmoid']},\n",
       "             scoring='accuracy')"
      ]
     },
     "execution_count": 61,
     "metadata": {},
     "output_type": "execute_result"
    }
   ],
   "source": [
    "params = {\n",
    "    \"cls__C\": [0.5, 1, 2, 5],\n",
    "    \"cls__kernel\": ['rbf', 'linear', 'sigmoid'],\n",
    "}\n",
    "\n",
    "pipe_svm = Pipeline([\n",
    "    ('scale', StandardScaler()),\n",
    "    ('var_tresh', VarianceThreshold(threshold=(.8 * (1 - .8)))),\n",
    "    ('feature_selection', SelectFromModel(lgbm.LGBMClassifier())),\n",
    "    ('cls', SVC())\n",
    "])\n",
    "\n",
    "grid_svm = GridSearchCV(pipe_svm, params, scoring='accuracy', n_jobs=6, cv=5)\n",
    "grid_svm.fit(X_train, y_train)"
   ]
  },
  {
   "cell_type": "code",
   "execution_count": 62,
   "metadata": {},
   "outputs": [
    {
     "name": "stdout",
     "output_type": "stream",
     "text": [
      "best score on validation set (accuracy) = 0.9681\n",
      "best score on test set (accuracy) = 0.9041\n"
     ]
    }
   ],
   "source": [
    "preds = grid_svm.predict(X_test)\n",
    "print(\"best score on validation set (accuracy) = {:.4f}\".format(grid_svm.best_score_))\n",
    "print(\"best score on test set (accuracy) = {:.4f}\".format(accuracy_score(y_test, preds)))"
   ]
  },
  {
   "cell_type": "markdown",
   "metadata": {},
   "source": [
    "## Results and save the model"
   ]
  },
  {
   "cell_type": "code",
   "execution_count": 63,
   "metadata": {},
   "outputs": [],
   "source": [
    "cm = confusion_matrix(y_test, preds)\n",
    "classes = ['black', 'death']"
   ]
  },
  {
   "cell_type": "code",
   "execution_count": 64,
   "metadata": {},
   "outputs": [
    {
     "data": {
      "image/png": "[encoded data removed]",
      "text/plain": [
       "<Figure size 144x144 with 2 Axes>"
      ]
     },
     "metadata": {
      "needs_background": "light"
     },
     "output_type": "display_data"
    }
   ],
   "source": [
    "plt.figure(figsize=(2,2))\n",
    "plot_confusion_matrix(cm, classes, normalize=True)"
   ]
  },
  {
   "cell_type": "code",
   "execution_count": 65,
   "metadata": {},
   "outputs": [],
   "source": [
    "import joblib"
   ]
  },
  {
   "cell_type": "code",
   "execution_count": 66,
   "metadata": {},
   "outputs": [
    {
     "data": {
      "text/plain": [
       "['../Models/pipe_svm.joblib']"
      ]
     },
     "execution_count": 66,
     "metadata": {},
     "output_type": "execute_result"
    }
   ],
   "source": [
    "joblib.dump(grid_svm, \"../Models/pipe_svm.joblib\")"
   ]
  }
 ],
 "metadata": {
  "kernelspec": {
   "display_name": "Python 3",
   "language": "python",
   "name": "python3"
  },
  "language_info": {
   "codemirror_mode": {
    "name": "ipython",
    "version": 3
   },
   "file_extension": ".py",
   "mimetype": "text/x-python",
   "name": "python",
   "nbconvert_exporter": "python",
   "pygments_lexer": "ipython3",
   "version": "3.8.5"
  }
 },
 "nbformat": 4,
 "nbformat_minor": 2
}
