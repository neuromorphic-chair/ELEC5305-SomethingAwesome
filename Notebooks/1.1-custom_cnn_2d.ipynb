{
 "cells": [
  {
   "cell_type": "code",
   "execution_count": 1,
   "metadata": {},
   "outputs": [],
   "source": [
    "import os\n",
    "import h5py\n",
    "import librosa\n",
    "import itertools\n",
    "from copy import copy\n",
    "import numpy as np\n",
    "import matplotlib.pyplot as plt\n",
    "from collections import OrderedDict\n",
    "from sklearn.model_selection import train_test_split\n",
    "from sklearn.metrics import confusion_matrix\n",
    "import random"
   ]
  },
  {
   "cell_type": "code",
   "execution_count": 2,
   "metadata": {},
   "outputs": [],
   "source": [
    "import tensorflow as tf\n",
    "from tensorflow.keras.utils import to_categorical\n",
    "from tensorflow.keras.models import Model\n",
    "from tensorflow.keras.layers import Input\n",
    "from tensorflow.keras.models import Sequential\n",
    "from tensorflow.keras.layers import Add\n",
    "from tensorflow.keras.layers import Dense\n",
    "from tensorflow.keras.layers import Activation\n",
    "from tensorflow.keras.layers import PReLU\n",
    "from tensorflow.keras.layers import Conv2D\n",
    "from tensorflow.keras.layers import MaxPooling2D\n",
    "from tensorflow.keras.layers import AveragePooling2D\n",
    "from tensorflow.keras.layers import GlobalAveragePooling2D\n",
    "from tensorflow.keras.layers import GlobalMaxPooling2D\n",
    "from tensorflow.keras.layers import Dropout\n",
    "from tensorflow.keras.layers import Flatten\n",
    "from tensorflow.keras.layers import BatchNormalization\n",
    "from tensorflow.keras.callbacks import ReduceLROnPlateau"
   ]
  },
  {
   "cell_type": "code",
   "execution_count": 3,
   "metadata": {},
   "outputs": [],
   "source": [
    "# For reproducibility purposes\n",
    "np.random.seed(42)"
   ]
  },
  {
   "cell_type": "markdown",
   "metadata": {},
   "source": [
    "# Read the data\n",
    "\n",
    "> Helper functions to assist the process to read songs, split then and return an array of spectrograms/melspectrograms"
   ]
  },
  {
   "cell_type": "code",
   "execution_count": 4,
   "metadata": {},
   "outputs": [],
   "source": [
    "\"\"\"\n",
    "@description: Method to split a song into multiple songs using overlapping windows\n",
    "\"\"\"\n",
    "def splitsongs(X, y, window = 0.05, overlap = 0.5):\n",
    "    # Empty lists to hold our results\n",
    "    temp_X = []\n",
    "    temp_y = []\n",
    "\n",
    "    # Get the input song array size\n",
    "    xshape = X.shape[0]\n",
    "    chunk = int(xshape*window)\n",
    "    offset = int(chunk*(1.-overlap))\n",
    "    \n",
    "    # Split the song and create new ones on windows\n",
    "    spsong = [X[i:i+chunk] for i in range(0, xshape - chunk + offset, offset)]\n",
    "    for s in spsong:\n",
    "        if s.shape[0] != chunk:\n",
    "            continue\n",
    "\n",
    "        temp_X.append(s)\n",
    "        temp_y.append(y)\n",
    "\n",
    "    return np.array(temp_X), np.array(temp_y)"
   ]
  },
  {
   "cell_type": "code",
   "execution_count": 5,
   "metadata": {},
   "outputs": [],
   "source": [
    "\"\"\"\n",
    "@description: Method to convert a list of songs to a np array of melspectrograms\n",
    "\"\"\"\n",
    "def to_melspectrogram(songs, n_fft=1024, hop_length=256):\n",
    "    # Transformation function\n",
    "    melspec = lambda x: librosa.feature.melspectrogram(x, n_fft=n_fft,\n",
    "        hop_length=hop_length, n_mels=128)[:,:,np.newaxis]\n",
    "\n",
    "    # map transformation of input songs to melspectrogram using log-scale\n",
    "    tsongs = map(melspec, songs)\n",
    "    #np.array([librosa.power_to_db(s, ref=np.max) for s in list(tsongs)])\n",
    "    return np.array(list(tsongs))"
   ]
  },
  {
   "cell_type": "code",
   "execution_count": 6,
   "metadata": {},
   "outputs": [],
   "source": [
    "def split_convert(X, y, debug=True):\n",
    "    arr_specs, arr_genres = [], []\n",
    "    \n",
    "    # Convert to spectrograms and split into small windows\n",
    "    for fn, genre in zip(X, y):\n",
    "        signal, sr = librosa.load(fn)\n",
    "        # Debug process\n",
    "        if debug:\n",
    "            print(\"Reading file: {}\".format(fn))\n",
    "        song_samples = sr*sample_time\n",
    "        signal = signal[:song_samples]\n",
    "\n",
    "        # Convert to dataset of spectograms/melspectograms\n",
    "        signals, y = splitsongs(signal, genre)\n",
    "\n",
    "        # Convert to \"spec\" representation\n",
    "        specs = to_melspectrogram(signals)\n",
    "\n",
    "        # Save files\n",
    "        arr_genres.extend(y)\n",
    "        arr_specs.extend(specs)\n",
    "    \n",
    "    outputA = np.array(arr_specs)\n",
    "    outputB = to_categorical(arr_genres)\n",
    "    return outputA, outputB"
   ]
  },
  {
   "cell_type": "code",
   "execution_count": 7,
   "metadata": {},
   "outputs": [],
   "source": [
    "def read_data(src_dir, genres, debug = True):    \n",
    "    # Empty array of dicts with the processed features from all files\n",
    "    arr_fn = []\n",
    "    arr_genres = []\n",
    "\n",
    "    # Get file list from the folders\n",
    "    for x,_ in genres.items():\n",
    "        folder = src_dir + x\n",
    "        for root, subdirs, files in os.walk(folder):\n",
    "            for file in files:\n",
    "                file_name = folder + \"/\" + file\n",
    "\n",
    "                # Save the file name and the genre\n",
    "                arr_fn.append(file_name)\n",
    "                arr_genres.append(genres[x])\n",
    "    \n",
    "    # Split into train and test\n",
    "    X_train, X_test, y_train, y_test = train_test_split(\n",
    "        arr_fn, arr_genres, test_size=0.3, random_state=42, stratify=arr_genres\n",
    "    )\n",
    "    \n",
    "    # Split into small segments and convert to spectrogram\n",
    "    X_train, y_train = split_convert(X_train, y_train, debug)\n",
    "    X_test, y_test = split_convert(X_test, y_test, debug)\n",
    "\n",
    "    return X_train, X_test, y_train, y_test"
   ]
  },
  {
   "cell_type": "code",
   "execution_count": 8,
   "metadata": {},
   "outputs": [
    {
     "name": "stdout",
     "output_type": "stream",
     "text": [
      "Reading file: ../Data/songs/small_test_set/death/(11)_[Death]_Land_Of_No_Return_(Mutilation_Demo).flac\n"
     ]
    },
    {
     "name": "stderr",
     "output_type": "stream",
     "text": [
      "C:\\Users\\user\\anaconda3\\envs\\ml38b\\lib\\site-packages\\librosa\\core\\audio.py:165: UserWarning: PySoundFile failed. Trying audioread instead.\n",
      "  warnings.warn(\"PySoundFile failed. Trying audioread instead.\")\n"
     ]
    },
    {
     "name": "stdout",
     "output_type": "stream",
     "text": [
      "Reading file: ../Data/songs/small_test_set/death/07 - The Beasts Of The Apocalypse.mp3\n",
      "Reading file: ../Data/songs/small_test_set/black/04 - The Source Of Icon E.flac\n",
      "Reading file: ../Data/songs/small_test_set/death/(12)_[Death]_Land_Of_No_Return.flac\n",
      "Reading file: ../Data/songs/small_test_set/black/08. Through The Halls Of Eternity.flac\n",
      "Reading file: ../Data/songs/small_test_set/death/(09)_[Slaughter]_Tortured_Souls.flac\n",
      "Reading file: ../Data/songs/small_test_set/black/03 - Night Of The Graveless Souls.mp3\n",
      "Reading file: ../Data/songs/small_test_set/black/06. Eternal Years On The Path To Cemetary Gates.flac\n",
      "Reading file: ../Data/songs/small_test_set/death/03 - March To Die.mp3\n",
      "Reading file: ../Data/songs/small_test_set/death/(10)_[Death]_Legion_Of_Doom_(Back_From_The_Dead_Demo_1986).flac\n",
      "Reading file: ../Data/songs/small_test_set/death/01. Dehydrated.mp3\n",
      "Reading file: ../Data/songs/small_test_set/death/(08)_[Death]_Zombie_(Reign_Of_Terror_Demo).flac\n",
      "Reading file: ../Data/songs/small_test_set/black/(2)_[Gorgoroth]_A_World_To_Win.ape\n",
      "Reading file: ../Data/songs/small_test_set/black/08. Enslaved - Brisinghamen.mp3\n",
      "Reading file: ../Data/songs/small_test_set/black/02 - Ancient Queen.flac\n",
      "Reading file: ../Data/songs/small_test_set/black/04. Throned By Blackstorms.flac\n",
      "Reading file: ../Data/songs/small_test_set/black/01. Unsilent Storms In The North Abyss.flac\n",
      "Reading file: ../Data/songs/small_test_set/death/01. Internal Bleeding.mp3\n",
      "Reading file: ../Data/songs/small_test_set/death/Possessed - 03 - Burning In Hell.mp3\n",
      "Reading file: ../Data/songs/small_test_set/black/10. RESOUND OF GJALLARHORN (ENSLAVED).mp3\n",
      "Reading file: ../Data/songs/small_test_set/death/02 - Possessed - Burning In Hell (Demo 84).mp3\n",
      "Reading file: ../Data/songs/small_test_set/death/(16)_[Mantas]_Beyond_The_Unholy_Grave.flac\n",
      "Reading file: ../Data/songs/small_test_set/death/(15)_[Death]_Zombie_(Rehearsal_1984).flac\n",
      "Reading file: ../Data/songs/small_test_set/black/Enslaved - 06 - Resound Of Gjallarhorn.mp3\n",
      "Reading file: ../Data/songs/small_test_set/black/(6)_[Gorgoroth]_Ein_Eim_Av_Blod_Og_Helvetesild.ape\n",
      "Reading file: ../Data/songs/small_test_set/death/(11)_[Death]_Beyond_The_Unholy_Grave.flac\n",
      "Reading file: ../Data/songs/small_test_set/black/05. Cold Winds of Funeral Dust.flac\n",
      "Reading file: ../Data/songs/small_test_set/black/11 - Ancient Queen.flac\n",
      "Reading file: ../Data/songs/small_test_set/black/07. Buried By Time And Dust - Mayhem.mp3\n",
      "Reading file: ../Data/songs/small_test_set/black/03. Enslaved - Urtical Gods.mp3\n",
      "Reading file: ../Data/songs/small_test_set/death/(02)_[Death]_Archangel_(Infernal_Death_Demo).flac\n",
      "Reading file: ../Data/songs/small_test_set/black/03 - Night of the Graveless Souls.flac\n",
      "Reading file: ../Data/songs/small_test_set/death/08 - Seance.mp3\n",
      "Reading file: ../Data/songs/small_test_set/death/(14)_[Mantas]_Black_Magic.flac\n",
      "Reading file: ../Data/songs/small_test_set/death/11. Bloodsoaked.mp3\n",
      "Reading file: ../Data/songs/small_test_set/black/03. Descent Into Eminent Silence.flac\n",
      "Reading file: ../Data/songs/small_test_set/black/05. Battlefields.flac\n",
      "Reading file: ../Data/songs/small_test_set/death/(08)_[Death]_Beyond_The_Unholy_Grave_(Back_From_The_Dead_Demo_1986).flac\n",
      "Reading file: ../Data/songs/small_test_set/death/01 - Possessed - Death Metal (Demo 84).mp3\n",
      "Reading file: ../Data/songs/small_test_set/black/05. Enslaved - Nidingaslakt.mp3\n"
     ]
    }
   ],
   "source": [
    "# Parameters\n",
    "gtzan_dir = '../Data/songs/small_test_set/'\n",
    "sample_time = 30 # seconds\n",
    "genres = {'black': 0, 'death': 1}\n",
    "\n",
    "# Read the data\n",
    "X_train, X_test, y_train, y_test = read_data(gtzan_dir, genres, debug=True)"
   ]
  },
  {
   "cell_type": "code",
   "execution_count": 9,
   "metadata": {},
   "outputs": [],
   "source": [
    "# outputA = np.array(X_train)\n",
    "# print(outputA.shape)\n",
    "# print(len(X_test))\n",
    "# count = 0\n",
    "# for sample in range(len(X_test)):\n",
    "#     num_row = len(X_test[sample])\n",
    "#     num_col = len(X_test[sample][0])\n",
    "#     num_intensity = len(X_test[sample][0][0])\n",
    "#     if (num_row != 128) or (num_col != 130) or (num_intensity != 1):\n",
    "#         np.append(X_test[sample][127], X_test[sample][127])\n",
    "#         np.append(X_test[sample][127], X_test[sample][127])\n",
    "#         print(str(sample) + ' has been extended.')\n",
    "#         #count += 1\n",
    "# #print(count)\n",
    "\n",
    "# #print(X_test[100][100][100])\n",
    "\n",
    "# outputB = to_categorical(X_test)"
   ]
  },
  {
   "cell_type": "code",
   "execution_count": 10,
   "metadata": {},
   "outputs": [
    {
     "data": {
      "image/png": "[encoded data removed]",
      "text/plain": [
       "<Figure size 432x288 with 1 Axes>"
      ]
     },
     "metadata": {
      "needs_background": "light"
     },
     "output_type": "display_data"
    }
   ],
   "source": [
    "# Histogram for train and test \n",
    "values, count = np.unique(np.argmax(y_train, axis=1), return_counts=True)\n",
    "plt.bar(values, count)\n",
    "\n",
    "values, count = np.unique(np.argmax(y_test, axis=1), return_counts=True)\n",
    "plt.bar(values, count)\n",
    "plt.show()"
   ]
  },
  {
   "cell_type": "markdown",
   "metadata": {},
   "source": [
    "# GTZAN Melspectrogram Generator"
   ]
  },
  {
   "cell_type": "code",
   "execution_count": 11,
   "metadata": {},
   "outputs": [],
   "source": [
    "from tensorflow.keras.utils import Sequence\n",
    "\n",
    "class GTZANGenerator(Sequence):\n",
    "    def __init__(self, X, y, batch_size=32, is_test = False):\n",
    "        self.X = X\n",
    "        self.y = y\n",
    "        self.batch_size = batch_size\n",
    "        self.is_test = is_test\n",
    "    \n",
    "    def __len__(self):\n",
    "        return int(np.ceil(len(self.X)/self.batch_size))\n",
    "    \n",
    "    def __getitem__(self, index):\n",
    "        # Get batch indexes\n",
    "        signals = self.X[index*self.batch_size:(index+1)*self.batch_size]\n",
    "\n",
    "        # Apply data augmentation\n",
    "        if not self.is_test:\n",
    "            signals = self.__augment(signals)\n",
    "        return signals, self.y[index*self.batch_size:(index+1)*self.batch_size]\n",
    "    \n",
    "    def __augment(self, signals, hor_flip = 0.5, random_cutout = 0.5):\n",
    "        spectrograms =  []\n",
    "        for s in signals:\n",
    "            signal = copy(s)\n",
    "            \n",
    "            # Perform horizontal flip\n",
    "            if np.random.rand() < hor_flip:\n",
    "                signal = np.flip(signal, 1)\n",
    "\n",
    "            # Perform random cutoout of some frequency/time\n",
    "            if np.random.rand() < random_cutout:\n",
    "                lines = np.random.randint(signal.shape[0], size=3)\n",
    "                cols = np.random.randint(signal.shape[0], size=4)\n",
    "                signal[lines, :, :] = -80 # dB\n",
    "                signal[:, cols, :] = -80 # dB\n",
    "\n",
    "            spectrograms.append(signal)\n",
    "        return np.array(spectrograms)\n",
    "    \n",
    "    def on_epoch_end(self):\n",
    "        self.indexes = np.arange(len(self.X))\n",
    "        np.random.shuffle(self.indexes)\n",
    "        return None"
   ]
  },
  {
   "cell_type": "markdown",
   "metadata": {},
   "source": [
    "# Custom CNN (Melspectrogram version)"
   ]
  },
  {
   "cell_type": "code",
   "execution_count": 12,
   "metadata": {},
   "outputs": [],
   "source": [
    "def conv_block(x, n_filters, pool_size=(2, 2)):\n",
    "    x = Conv2D(n_filters, (3, 3), strides=(1, 1), padding='same')(x)\n",
    "    x = Activation('relu')(x)\n",
    "    x = MaxPooling2D(pool_size=pool_size, strides=pool_size)(x)\n",
    "    x = Dropout(0.25)(x)\n",
    "    return x"
   ]
  },
  {
   "cell_type": "code",
   "execution_count": 13,
   "metadata": {},
   "outputs": [],
   "source": [
    "# Model Definition\n",
    "def create_model(input_shape, num_genres):\n",
    "    inpt = Input(shape=input_shape)\n",
    "    x = conv_block(inpt, 16)\n",
    "    x = conv_block(x, 32)\n",
    "    x = conv_block(x, 64)\n",
    "    x = conv_block(x, 128)\n",
    "    x = conv_block(x, 256)\n",
    "    \n",
    "    # Global Pooling and MLP\n",
    "    x = Flatten()(x)\n",
    "    x = Dropout(0.5)(x)\n",
    "    x = Dense(512, activation='relu', \n",
    "              kernel_regularizer=tf.keras.regularizers.l2(0.02))(x)\n",
    "    x = Dropout(0.25)(x)\n",
    "    predictions = Dense(num_genres, \n",
    "                        activation='softmax', \n",
    "                        kernel_regularizer=tf.keras.regularizers.l2(0.02))(x)\n",
    "    \n",
    "    model = Model(inputs=inpt, outputs=predictions)\n",
    "    return model"
   ]
  },
  {
   "cell_type": "code",
   "execution_count": 33,
   "metadata": {},
   "outputs": [],
   "source": [
    "model = create_model(X_train[0].shape, 2)\n",
    "#model = create_model((128, 130, 1), 2)\n",
    "#print(X_train.shape)"
   ]
  },
  {
   "cell_type": "code",
   "execution_count": 34,
   "metadata": {},
   "outputs": [
    {
     "name": "stdout",
     "output_type": "stream",
     "text": [
      "Model: \"model_1\"\n",
      "_________________________________________________________________\n",
      " Layer (type)                Output Shape              Param #   \n",
      "=================================================================\n",
      " input_2 (InputLayer)        [(None, 128, 130, 1)]     0         \n",
      "                                                                 \n",
      " conv2d_5 (Conv2D)           (None, 128, 130, 16)      160       \n",
      "                                                                 \n",
      " activation_5 (Activation)   (None, 128, 130, 16)      0         \n",
      "                                                                 \n",
      " max_pooling2d_5 (MaxPooling  (None, 64, 65, 16)       0         \n",
      " 2D)                                                             \n",
      "                                                                 \n",
      " dropout_7 (Dropout)         (None, 64, 65, 16)        0         \n",
      "                                                                 \n",
      " conv2d_6 (Conv2D)           (None, 64, 65, 32)        4640      \n",
      "                                                                 \n",
      " activation_6 (Activation)   (None, 64, 65, 32)        0         \n",
      "                                                                 \n",
      " max_pooling2d_6 (MaxPooling  (None, 32, 32, 32)       0         \n",
      " 2D)                                                             \n",
      "                                                                 \n",
      " dropout_8 (Dropout)         (None, 32, 32, 32)        0         \n",
      "                                                                 \n",
      " conv2d_7 (Conv2D)           (None, 32, 32, 64)        18496     \n",
      "                                                                 \n",
      " activation_7 (Activation)   (None, 32, 32, 64)        0         \n",
      "                                                                 \n",
      " max_pooling2d_7 (MaxPooling  (None, 16, 16, 64)       0         \n",
      " 2D)                                                             \n",
      "                                                                 \n",
      " dropout_9 (Dropout)         (None, 16, 16, 64)        0         \n",
      "                                                                 \n",
      " conv2d_8 (Conv2D)           (None, 16, 16, 128)       73856     \n",
      "                                                                 \n",
      " activation_8 (Activation)   (None, 16, 16, 128)       0         \n",
      "                                                                 \n",
      " max_pooling2d_8 (MaxPooling  (None, 8, 8, 128)        0         \n",
      " 2D)                                                             \n",
      "                                                                 \n",
      " dropout_10 (Dropout)        (None, 8, 8, 128)         0         \n",
      "                                                                 \n",
      " conv2d_9 (Conv2D)           (None, 8, 8, 256)         295168    \n",
      "                                                                 \n",
      " activation_9 (Activation)   (None, 8, 8, 256)         0         \n",
      "                                                                 \n",
      " max_pooling2d_9 (MaxPooling  (None, 4, 4, 256)        0         \n",
      " 2D)                                                             \n",
      "                                                                 \n",
      " dropout_11 (Dropout)        (None, 4, 4, 256)         0         \n",
      "                                                                 \n",
      " flatten_1 (Flatten)         (None, 4096)              0         \n",
      "                                                                 \n",
      " dropout_12 (Dropout)        (None, 4096)              0         \n",
      "                                                                 \n",
      " dense_2 (Dense)             (None, 512)               2097664   \n",
      "                                                                 \n",
      " dropout_13 (Dropout)        (None, 512)               0         \n",
      "                                                                 \n",
      " dense_3 (Dense)             (None, 2)                 1026      \n",
      "                                                                 \n",
      "=================================================================\n",
      "Total params: 2,491,010\n",
      "Trainable params: 2,491,010\n",
      "Non-trainable params: 0\n",
      "_________________________________________________________________\n"
     ]
    }
   ],
   "source": [
    "model.summary()"
   ]
  },
  {
   "cell_type": "markdown",
   "metadata": {},
   "source": [
    "### Loss function"
   ]
  },
  {
   "cell_type": "code",
   "execution_count": 35,
   "metadata": {},
   "outputs": [],
   "source": [
    "model.compile(loss=tf.keras.losses.categorical_crossentropy,\n",
    "              optimizer=tf.keras.optimizers.Adam(),\n",
    "              metrics=['accuracy'])"
   ]
  },
  {
   "cell_type": "code",
   "execution_count": 36,
   "metadata": {},
   "outputs": [],
   "source": [
    "reduceLROnPlat = ReduceLROnPlateau(\n",
    "    monitor='val_loss', \n",
    "    factor=0.95,\n",
    "    patience=3,\n",
    "    verbose=1,\n",
    "    mode='min',\n",
    "    min_delta=0.0001,\n",
    "    cooldown=2,\n",
    "    min_lr=1e-5\n",
    ")"
   ]
  },
  {
   "cell_type": "code",
   "execution_count": 43,
   "metadata": {},
   "outputs": [],
   "source": [
    "# Generators\n",
    "batch_size = 32\n",
    "train_generator = GTZANGenerator(X_train, y_train.astype(int))\n",
    "steps_per_epoch = np.ceil(len(X_train)/batch_size)\n",
    "\n",
    "validation_generator = GTZANGenerator(X_test, y_test.astype(int))\n",
    "val_steps = np.ceil(len(X_test)/batch_size)"
   ]
  },
  {
   "cell_type": "code",
   "execution_count": 44,
   "metadata": {
    "scrolled": true
   },
   "outputs": [
    {
     "name": "stdout",
     "output_type": "stream",
     "text": [
      "Epoch 1/100\n",
      "18/18 [==============================] - 1s 34ms/step - loss: 9.0566 - accuracy: 0.6077 - val_loss: 8.6723 - val_accuracy: 0.5938 - lr: 0.0010\n",
      "Epoch 2/100\n",
      "18/18 [==============================] - 1s 31ms/step - loss: 8.4099 - accuracy: 0.5931 - val_loss: 8.0098 - val_accuracy: 0.5898 - lr: 0.0010\n",
      "Epoch 3/100\n",
      "18/18 [==============================] - 1s 29ms/step - loss: 7.7055 - accuracy: 0.6423 - val_loss: 7.3987 - val_accuracy: 0.5938 - lr: 0.0010\n",
      "Epoch 4/100\n",
      "18/18 [==============================] - 1s 31ms/step - loss: 7.0704 - accuracy: 0.7326 - val_loss: 7.1544 - val_accuracy: 0.4766 - lr: 0.0010\n",
      "Epoch 5/100\n",
      "18/18 [==============================] - 1s 29ms/step - loss: 6.6600 - accuracy: 0.6460 - val_loss: 6.4062 - val_accuracy: 0.5781 - lr: 0.0010\n",
      "Epoch 6/100\n",
      "18/18 [==============================] - 1s 30ms/step - loss: 6.2217 - accuracy: 0.6441 - val_loss: 5.9919 - val_accuracy: 0.5938 - lr: 0.0010\n",
      "Epoch 7/100\n",
      "18/18 [==============================] - 1s 27ms/step - loss: 5.7737 - accuracy: 0.6825 - val_loss: 5.6423 - val_accuracy: 0.6133 - lr: 0.0010\n",
      "Epoch 8/100\n",
      "18/18 [==============================] - 1s 29ms/step - loss: 5.3448 - accuracy: 0.8248 - val_loss: 5.3328 - val_accuracy: 0.6211 - lr: 0.0010\n",
      "Epoch 9/100\n",
      "18/18 [==============================] - 1s 29ms/step - loss: 5.1163 - accuracy: 0.6807 - val_loss: 5.0143 - val_accuracy: 0.6055 - lr: 0.0010\n",
      "Epoch 10/100\n",
      "18/18 [==============================] - 1s 29ms/step - loss: 4.7548 - accuracy: 0.7083 - val_loss: 4.6660 - val_accuracy: 0.5703 - lr: 0.0010\n",
      "Epoch 11/100\n",
      "18/18 [==============================] - 1s 29ms/step - loss: 4.4361 - accuracy: 0.7920 - val_loss: 4.6489 - val_accuracy: 0.6055 - lr: 0.0010\n",
      "Epoch 12/100\n",
      "18/18 [==============================] - 1s 29ms/step - loss: 4.2440 - accuracy: 0.7609 - val_loss: 4.1979 - val_accuracy: 0.5508 - lr: 0.0010\n",
      "Epoch 13/100\n",
      "18/18 [==============================] - 1s 30ms/step - loss: 3.9242 - accuracy: 0.8212 - val_loss: 4.5049 - val_accuracy: 0.5352 - lr: 0.0010\n",
      "Epoch 14/100\n",
      "18/18 [==============================] - 1s 28ms/step - loss: 3.7620 - accuracy: 0.8577 - val_loss: 3.8067 - val_accuracy: 0.5742 - lr: 0.0010\n",
      "Epoch 15/100\n",
      "18/18 [==============================] - 1s 29ms/step - loss: 3.5572 - accuracy: 0.7726 - val_loss: 3.7141 - val_accuracy: 0.5977 - lr: 0.0010\n",
      "Epoch 16/100\n",
      "18/18 [==============================] - 0s 26ms/step - loss: 3.3646 - accuracy: 0.7760 - val_loss: 3.4303 - val_accuracy: 0.6055 - lr: 0.0010\n",
      "Epoch 17/100\n",
      "18/18 [==============================] - 0s 27ms/step - loss: 3.1770 - accuracy: 0.7993 - val_loss: 3.2961 - val_accuracy: 0.6016 - lr: 0.0010\n",
      "Epoch 18/100\n",
      "18/18 [==============================] - 0s 27ms/step - loss: 2.9585 - accuracy: 0.8316 - val_loss: 3.2087 - val_accuracy: 0.6133 - lr: 0.0010\n",
      "Epoch 19/100\n",
      "18/18 [==============================] - 1s 28ms/step - loss: 3.0188 - accuracy: 0.7263 - val_loss: 3.0598 - val_accuracy: 0.6016 - lr: 0.0010\n",
      "Epoch 20/100\n",
      "18/18 [==============================] - 0s 27ms/step - loss: 2.7737 - accuracy: 0.8073 - val_loss: 2.9625 - val_accuracy: 0.5664 - lr: 0.0010\n",
      "Epoch 21/100\n",
      "18/18 [==============================] - 0s 27ms/step - loss: 2.6318 - accuracy: 0.7828 - val_loss: 2.7920 - val_accuracy: 0.6367 - lr: 0.0010\n",
      "Epoch 22/100\n",
      "18/18 [==============================] - 1s 30ms/step - loss: 2.4923 - accuracy: 0.8385 - val_loss: 2.8911 - val_accuracy: 0.6250 - lr: 0.0010\n",
      "Epoch 23/100\n",
      "18/18 [==============================] - 1s 29ms/step - loss: 2.5062 - accuracy: 0.7083 - val_loss: 2.4992 - val_accuracy: 0.6328 - lr: 0.0010\n",
      "Epoch 24/100\n",
      "18/18 [==============================] - 0s 25ms/step - loss: 2.3552 - accuracy: 0.8084 - val_loss: 2.3892 - val_accuracy: 0.6172 - lr: 0.0010\n",
      "Epoch 25/100\n",
      "18/18 [==============================] - 0s 24ms/step - loss: 2.2924 - accuracy: 0.7591 - val_loss: 2.3503 - val_accuracy: 0.5977 - lr: 0.0010\n",
      "Epoch 26/100\n",
      "18/18 [==============================] - 1s 30ms/step - loss: 2.1244 - accuracy: 0.7719 - val_loss: 2.2615 - val_accuracy: 0.7227 - lr: 0.0010\n",
      "Epoch 27/100\n",
      "18/18 [==============================] - 1s 27ms/step - loss: 2.0504 - accuracy: 0.7760 - val_loss: 2.2812 - val_accuracy: 0.5586 - lr: 0.0010\n",
      "Epoch 28/100\n",
      "18/18 [==============================] - 0s 26ms/step - loss: 1.9564 - accuracy: 0.8212 - val_loss: 2.1527 - val_accuracy: 0.6758 - lr: 0.0010\n",
      "Epoch 29/100\n",
      "18/18 [==============================] - 0s 26ms/step - loss: 1.8800 - accuracy: 0.8431 - val_loss: 2.2317 - val_accuracy: 0.6016 - lr: 0.0010\n",
      "Epoch 30/100\n",
      "18/18 [==============================] - 0s 25ms/step - loss: 1.8282 - accuracy: 0.8177 - val_loss: 2.0507 - val_accuracy: 0.6797 - lr: 0.0010\n",
      "Epoch 31/100\n",
      "18/18 [==============================] - 0s 26ms/step - loss: 1.8276 - accuracy: 0.8108 - val_loss: 1.9102 - val_accuracy: 0.6523 - lr: 0.0010\n",
      "Epoch 32/100\n",
      "18/18 [==============================] - 0s 25ms/step - loss: 1.6179 - accuracy: 0.8540 - val_loss: 1.9065 - val_accuracy: 0.6289 - lr: 0.0010\n",
      "Epoch 33/100\n",
      "18/18 [==============================] - 0s 25ms/step - loss: 1.5830 - accuracy: 0.8522 - val_loss: 2.2994 - val_accuracy: 0.5703 - lr: 0.0010\n",
      "Epoch 34/100\n",
      "18/18 [==============================] - 0s 25ms/step - loss: 1.5738 - accuracy: 0.8266 - val_loss: 1.8001 - val_accuracy: 0.6016 - lr: 0.0010\n",
      "Epoch 35/100\n",
      "18/18 [==============================] - 0s 26ms/step - loss: 1.4924 - accuracy: 0.8321 - val_loss: 2.0100 - val_accuracy: 0.6875 - lr: 0.0010\n",
      "Epoch 36/100\n",
      "18/18 [==============================] - 0s 25ms/step - loss: 1.4262 - accuracy: 0.8403 - val_loss: 1.6656 - val_accuracy: 0.6172 - lr: 0.0010\n",
      "Epoch 37/100\n",
      "18/18 [==============================] - 1s 26ms/step - loss: 1.3775 - accuracy: 0.8472 - val_loss: 1.6571 - val_accuracy: 0.7266 - lr: 0.0010\n",
      "Epoch 38/100\n",
      "18/18 [==============================] - 1s 28ms/step - loss: 1.3670 - accuracy: 0.8281 - val_loss: 1.5750 - val_accuracy: 0.6875 - lr: 0.0010\n",
      "Epoch 39/100\n",
      "18/18 [==============================] - 0s 27ms/step - loss: 1.3857 - accuracy: 0.7609 - val_loss: 1.5556 - val_accuracy: 0.6914 - lr: 0.0010\n",
      "Epoch 40/100\n",
      "18/18 [==============================] - 0s 26ms/step - loss: 1.2976 - accuracy: 0.8368 - val_loss: 1.4129 - val_accuracy: 0.6992 - lr: 0.0010\n",
      "Epoch 41/100\n",
      "18/18 [==============================] - 1s 28ms/step - loss: 1.1649 - accuracy: 0.8924 - val_loss: 1.8276 - val_accuracy: 0.5703 - lr: 0.0010\n",
      "Epoch 42/100\n",
      "18/18 [==============================] - 0s 26ms/step - loss: 1.1234 - accuracy: 0.8854 - val_loss: 1.5222 - val_accuracy: 0.6992 - lr: 0.0010\n",
      "Epoch 43/100\n",
      "18/18 [==============================] - ETA: 0s - loss: 1.2213 - accuracy: 0.8157\n",
      "Epoch 00043: ReduceLROnPlateau reducing learning rate to 0.0009500000451225787.\n",
      "18/18 [==============================] - 0s 27ms/step - loss: 1.2213 - accuracy: 0.8157 - val_loss: 1.4689 - val_accuracy: 0.6016 - lr: 0.0010\n",
      "Epoch 44/100\n",
      "18/18 [==============================] - 0s 25ms/step - loss: 1.0663 - accuracy: 0.8887 - val_loss: 1.6405 - val_accuracy: 0.6719 - lr: 9.5000e-04\n",
      "Epoch 45/100\n",
      "18/18 [==============================] - 0s 26ms/step - loss: 1.1211 - accuracy: 0.8420 - val_loss: 1.4749 - val_accuracy: 0.6602 - lr: 9.5000e-04\n",
      "Epoch 46/100\n",
      "18/18 [==============================] - 0s 27ms/step - loss: 1.0082 - accuracy: 0.8869 - val_loss: 1.3903 - val_accuracy: 0.7031 - lr: 9.5000e-04\n",
      "Epoch 47/100\n",
      "18/18 [==============================] - 0s 27ms/step - loss: 1.0457 - accuracy: 0.8542 - val_loss: 1.4209 - val_accuracy: 0.6953 - lr: 9.5000e-04\n",
      "Epoch 48/100\n",
      "18/18 [==============================] - 0s 25ms/step - loss: 1.1176 - accuracy: 0.7951 - val_loss: 1.4335 - val_accuracy: 0.6172 - lr: 9.5000e-04\n",
      "Epoch 49/100\n",
      "16/18 [=========================>....] - ETA: 0s - loss: 0.9993 - accuracy: 0.8320\n",
      "Epoch 00049: ReduceLROnPlateau reducing learning rate to 0.0009025000152178108.\n",
      "18/18 [==============================] - 0s 26ms/step - loss: 0.9963 - accuracy: 0.8438 - val_loss: 1.6188 - val_accuracy: 0.5508 - lr: 9.5000e-04\n",
      "Epoch 50/100\n",
      "18/18 [==============================] - 0s 26ms/step - loss: 0.8669 - accuracy: 0.9201 - val_loss: 1.7366 - val_accuracy: 0.5508 - lr: 9.0250e-04\n",
      "Epoch 51/100\n",
      "18/18 [==============================] - 0s 26ms/step - loss: 0.9032 - accuracy: 0.8663 - val_loss: 1.7161 - val_accuracy: 0.6289 - lr: 9.0250e-04\n",
      "Epoch 52/100\n",
      "18/18 [==============================] - 0s 25ms/step - loss: 0.9245 - accuracy: 0.8472 - val_loss: 1.5157 - val_accuracy: 0.6953 - lr: 9.0250e-04\n",
      "Epoch 53/100\n",
      "18/18 [==============================] - 1s 29ms/step - loss: 1.0403 - accuracy: 0.8175 - val_loss: 1.1987 - val_accuracy: 0.6367 - lr: 9.0250e-04\n",
      "Epoch 54/100\n",
      "18/18 [==============================] - 0s 26ms/step - loss: 0.8278 - accuracy: 0.9142 - val_loss: 1.1583 - val_accuracy: 0.7422 - lr: 9.0250e-04\n",
      "Epoch 55/100\n",
      "18/18 [==============================] - 0s 25ms/step - loss: 0.8182 - accuracy: 0.9051 - val_loss: 1.4175 - val_accuracy: 0.5703 - lr: 9.0250e-04\n",
      "Epoch 56/100\n",
      "18/18 [==============================] - 0s 25ms/step - loss: 0.7938 - accuracy: 0.8785 - val_loss: 1.2217 - val_accuracy: 0.5781 - lr: 9.0250e-04\n",
      "Epoch 57/100\n",
      "18/18 [==============================] - ETA: 0s - loss: 0.8962 - accuracy: 0.8299\n",
      "Epoch 00057: ReduceLROnPlateau reducing learning rate to 0.0008573750033974647.\n",
      "18/18 [==============================] - 0s 25ms/step - loss: 0.8962 - accuracy: 0.8299 - val_loss: 1.2563 - val_accuracy: 0.6562 - lr: 9.0250e-04\n",
      "Epoch 58/100\n",
      "18/18 [==============================] - 0s 26ms/step - loss: 0.8071 - accuracy: 0.8958 - val_loss: 1.1203 - val_accuracy: 0.6172 - lr: 8.5737e-04\n",
      "Epoch 59/100\n",
      "18/18 [==============================] - 0s 26ms/step - loss: 0.7762 - accuracy: 0.8869 - val_loss: 1.1200 - val_accuracy: 0.6602 - lr: 8.5737e-04\n",
      "Epoch 60/100\n",
      "18/18 [==============================] - 0s 25ms/step - loss: 0.6914 - accuracy: 0.9069 - val_loss: 1.3145 - val_accuracy: 0.7109 - lr: 8.5737e-04\n",
      "Epoch 61/100\n",
      "18/18 [==============================] - 1s 29ms/step - loss: 0.7470 - accuracy: 0.8759 - val_loss: 1.9173 - val_accuracy: 0.5430 - lr: 8.5737e-04\n",
      "Epoch 62/100\n",
      "16/18 [=========================>....] - ETA: 0s - loss: 0.6762 - accuracy: 0.9112\n",
      "Epoch 00062: ReduceLROnPlateau reducing learning rate to 0.0008145062311086804.\n",
      "18/18 [==============================] - 0s 25ms/step - loss: 0.6601 - accuracy: 0.9161 - val_loss: 1.2076 - val_accuracy: 0.6562 - lr: 8.5737e-04\n",
      "Epoch 63/100\n",
      "18/18 [==============================] - 0s 27ms/step - loss: 0.7026 - accuracy: 0.8733 - val_loss: 1.2943 - val_accuracy: 0.6445 - lr: 8.1451e-04\n",
      "Epoch 64/100\n",
      "18/18 [==============================] - 0s 27ms/step - loss: 0.6459 - accuracy: 0.8958 - val_loss: 1.4194 - val_accuracy: 0.6445 - lr: 8.1451e-04\n",
      "Epoch 65/100\n",
      "18/18 [==============================] - 0s 26ms/step - loss: 0.7110 - accuracy: 0.8832 - val_loss: 1.4049 - val_accuracy: 0.5547 - lr: 8.1451e-04\n",
      "Epoch 66/100\n",
      "18/18 [==============================] - ETA: 0s - loss: 0.7342 - accuracy: 0.8403\n",
      "Epoch 00066: ReduceLROnPlateau reducing learning rate to 0.0007737808919046074.\n",
      "18/18 [==============================] - 0s 26ms/step - loss: 0.7342 - accuracy: 0.8403 - val_loss: 1.2287 - val_accuracy: 0.7070 - lr: 8.1451e-04\n",
      "Epoch 67/100\n",
      "18/18 [==============================] - 0s 27ms/step - loss: 0.7251 - accuracy: 0.8385 - val_loss: 1.1617 - val_accuracy: 0.6875 - lr: 7.7378e-04\n",
      "Epoch 68/100\n",
      "18/18 [==============================] - 1s 25ms/step - loss: 0.6997 - accuracy: 0.8715 - val_loss: 1.2264 - val_accuracy: 0.6133 - lr: 7.7378e-04\n",
      "Epoch 69/100\n",
      "18/18 [==============================] - 0s 25ms/step - loss: 0.5671 - accuracy: 0.9088 - val_loss: 1.7521 - val_accuracy: 0.5820 - lr: 7.7378e-04\n",
      "Epoch 70/100\n",
      "16/18 [=========================>....] - ETA: 0s - loss: 0.7486 - accuracy: 0.8202\n",
      "Epoch 00070: ReduceLROnPlateau reducing learning rate to 0.000735091819660738.\n",
      "18/18 [==============================] - 0s 25ms/step - loss: 0.7707 - accuracy: 0.8157 - val_loss: 1.2635 - val_accuracy: 0.6875 - lr: 7.7378e-04\n",
      "Epoch 71/100\n",
      "18/18 [==============================] - 0s 25ms/step - loss: 0.6792 - accuracy: 0.8524 - val_loss: 1.1476 - val_accuracy: 0.6328 - lr: 7.3509e-04\n",
      "Epoch 72/100\n",
      "18/18 [==============================] - 0s 26ms/step - loss: 0.5611 - accuracy: 0.9167 - val_loss: 1.5783 - val_accuracy: 0.5938 - lr: 7.3509e-04\n",
      "Epoch 73/100\n",
      "18/18 [==============================] - 0s 26ms/step - loss: 0.5273 - accuracy: 0.9307 - val_loss: 1.3679 - val_accuracy: 0.5664 - lr: 7.3509e-04\n",
      "Epoch 74/100\n",
      "16/18 [=========================>....] - ETA: 0s - loss: 0.5533 - accuracy: 0.9121\n",
      "Epoch 00074: ReduceLROnPlateau reducing learning rate to 0.0006983372120885178.\n",
      "18/18 [==============================] - 0s 25ms/step - loss: 0.5354 - accuracy: 0.9201 - val_loss: 1.2354 - val_accuracy: 0.7148 - lr: 7.3509e-04\n",
      "Epoch 75/100\n",
      "18/18 [==============================] - 0s 26ms/step - loss: 0.6007 - accuracy: 0.8767 - val_loss: 1.2230 - val_accuracy: 0.6172 - lr: 6.9834e-04\n",
      "Epoch 76/100\n",
      "18/18 [==============================] - 0s 26ms/step - loss: 0.5164 - accuracy: 0.9115 - val_loss: 1.4215 - val_accuracy: 0.5977 - lr: 6.9834e-04\n",
      "Epoch 77/100\n",
      "18/18 [==============================] - 0s 26ms/step - loss: 0.5930 - accuracy: 0.8613 - val_loss: 1.4009 - val_accuracy: 0.5742 - lr: 6.9834e-04\n",
      "Epoch 78/100\n",
      "16/18 [=========================>....] - ETA: 0s - loss: 0.5979 - accuracy: 0.8613\n",
      "Epoch 00078: ReduceLROnPlateau reducing learning rate to 0.0006634203542489559.\n",
      "18/18 [==============================] - 0s 26ms/step - loss: 0.5742 - accuracy: 0.8733 - val_loss: 1.5139 - val_accuracy: 0.5898 - lr: 6.9834e-04\n",
      "Epoch 79/100\n",
      "18/18 [==============================] - 0s 25ms/step - loss: 0.5648 - accuracy: 0.8942 - val_loss: 1.8682 - val_accuracy: 0.5664 - lr: 6.6342e-04\n",
      "Epoch 80/100\n",
      "18/18 [==============================] - 0s 26ms/step - loss: 0.5899 - accuracy: 0.8524 - val_loss: 1.7026 - val_accuracy: 0.6211 - lr: 6.6342e-04\n",
      "Epoch 81/100\n",
      "18/18 [==============================] - 0s 26ms/step - loss: 0.4421 - accuracy: 0.9410 - val_loss: 1.8238 - val_accuracy: 0.5586 - lr: 6.6342e-04\n",
      "Epoch 82/100\n",
      "17/18 [===========================>..] - ETA: 0s - loss: 0.6063 - accuracy: 0.8438\n",
      "Epoch 00082: ReduceLROnPlateau reducing learning rate to 0.0006302493420662358.\n",
      "18/18 [==============================] - 1s 30ms/step - loss: 0.6311 - accuracy: 0.8247 - val_loss: 1.3966 - val_accuracy: 0.6523 - lr: 6.6342e-04\n",
      "Epoch 83/100\n",
      "18/18 [==============================] - 0s 26ms/step - loss: 0.5415 - accuracy: 0.8941 - val_loss: 1.4650 - val_accuracy: 0.6562 - lr: 6.3025e-04\n",
      "Epoch 84/100\n",
      "18/18 [==============================] - 0s 26ms/step - loss: 0.5540 - accuracy: 0.8777 - val_loss: 1.4635 - val_accuracy: 0.5781 - lr: 6.3025e-04\n",
      "Epoch 85/100\n",
      "18/18 [==============================] - 0s 25ms/step - loss: 0.4371 - accuracy: 0.9514 - val_loss: 1.7989 - val_accuracy: 0.5352 - lr: 6.3025e-04\n",
      "Epoch 86/100\n",
      "18/18 [==============================] - ETA: 0s - loss: 0.4127 - accuracy: 0.9601\n",
      "Epoch 00086: ReduceLROnPlateau reducing learning rate to 0.0005987368611386045.\n",
      "18/18 [==============================] - 0s 27ms/step - loss: 0.4127 - accuracy: 0.9601 - val_loss: 1.6950 - val_accuracy: 0.5820 - lr: 6.3025e-04\n",
      "Epoch 87/100\n",
      "18/18 [==============================] - 0s 26ms/step - loss: 0.4708 - accuracy: 0.9142 - val_loss: 1.8514 - val_accuracy: 0.5898 - lr: 5.9874e-04\n",
      "Epoch 88/100\n",
      "18/18 [==============================] - 1s 28ms/step - loss: 0.5451 - accuracy: 0.8832 - val_loss: 1.3102 - val_accuracy: 0.5625 - lr: 5.9874e-04\n",
      "Epoch 89/100\n",
      "18/18 [==============================] - 0s 25ms/step - loss: 0.4327 - accuracy: 0.9288 - val_loss: 1.4116 - val_accuracy: 0.5352 - lr: 5.9874e-04\n",
      "Epoch 90/100\n",
      "16/18 [=========================>....] - ETA: 0s - loss: 0.4999 - accuracy: 0.8967\n",
      "Epoch 00090: ReduceLROnPlateau reducing learning rate to 0.0005688000208465382.\n",
      "18/18 [==============================] - 0s 26ms/step - loss: 0.5089 - accuracy: 0.8887 - val_loss: 1.3588 - val_accuracy: 0.5586 - lr: 5.9874e-04\n",
      "Epoch 91/100\n",
      "18/18 [==============================] - 0s 25ms/step - loss: 0.4302 - accuracy: 0.9088 - val_loss: 1.6815 - val_accuracy: 0.5156 - lr: 5.6880e-04\n",
      "Epoch 92/100\n",
      "18/18 [==============================] - 0s 27ms/step - loss: 0.4952 - accuracy: 0.8905 - val_loss: 1.2606 - val_accuracy: 0.5469 - lr: 5.6880e-04\n",
      "Epoch 93/100\n",
      "18/18 [==============================] - 0s 25ms/step - loss: 0.4316 - accuracy: 0.9069 - val_loss: 1.5402 - val_accuracy: 0.5586 - lr: 5.6880e-04\n",
      "Epoch 94/100\n",
      "18/18 [==============================] - ETA: 0s - loss: 0.4900 - accuracy: 0.8704\n",
      "Epoch 00094: ReduceLROnPlateau reducing learning rate to 0.0005403600225690752.\n",
      "18/18 [==============================] - 0s 26ms/step - loss: 0.4900 - accuracy: 0.8704 - val_loss: 1.7423 - val_accuracy: 0.5859 - lr: 5.6880e-04\n",
      "Epoch 95/100\n",
      "18/18 [==============================] - 0s 24ms/step - loss: 0.4207 - accuracy: 0.9270 - val_loss: 2.5267 - val_accuracy: 0.5508 - lr: 5.4036e-04\n",
      "Epoch 96/100\n",
      "18/18 [==============================] - 1s 29ms/step - loss: 0.3915 - accuracy: 0.9253 - val_loss: 1.4884 - val_accuracy: 0.5859 - lr: 5.4036e-04\n",
      "Epoch 97/100\n",
      "18/18 [==============================] - 0s 26ms/step - loss: 0.3660 - accuracy: 0.9489 - val_loss: 1.8041 - val_accuracy: 0.5430 - lr: 5.4036e-04\n",
      "Epoch 98/100\n",
      "16/18 [=========================>....] - ETA: 0s - loss: 0.4394 - accuracy: 0.8967\n",
      "Epoch 00098: ReduceLROnPlateau reducing learning rate to 0.0005133419937919825.\n",
      "18/18 [==============================] - 0s 26ms/step - loss: 0.4199 - accuracy: 0.9088 - val_loss: 1.4503 - val_accuracy: 0.5742 - lr: 5.4036e-04\n",
      "Epoch 99/100\n",
      "18/18 [==============================] - 0s 26ms/step - loss: 0.3572 - accuracy: 0.9325 - val_loss: 1.8038 - val_accuracy: 0.5547 - lr: 5.1334e-04\n",
      "Epoch 100/100\n",
      "18/18 [==============================] - 0s 26ms/step - loss: 0.5079 - accuracy: 0.8628 - val_loss: 1.1311 - val_accuracy: 0.6797 - lr: 5.1334e-04\n"
     ]
    }
   ],
   "source": [
    "\n",
    "hist = model.fit(\n",
    "    train_generator,\n",
    "    steps_per_epoch=steps_per_epoch,\n",
    "    validation_data=validation_generator,\n",
    "    validation_steps=val_steps,\n",
    "    epochs=100,\n",
    "    verbose=1,\n",
    "    callbacks=[reduceLROnPlat])"
   ]
  },
  {
   "cell_type": "code",
   "execution_count": 45,
   "metadata": {},
   "outputs": [
    {
     "name": "stdout",
     "output_type": "stream",
     "text": [
      "val_loss = 1.088 and val_acc = 0.650\n"
     ]
    }
   ],
   "source": [
    "#X_test1 = hash(tuple(X_test))\n",
    "#y_test1 = hash(tuple(y_test))\n",
    "score = model.evaluate(X_test, y_test, verbose=0)\n",
    "print(\"val_loss = {:.3f} and val_acc = {:.3f}\".format(score[0], score[1]))"
   ]
  },
  {
   "cell_type": "code",
   "execution_count": 46,
   "metadata": {},
   "outputs": [
    {
     "data": {
      "image/png": "[encoded data removed]",
      "text/plain": [
       "<Figure size 1080x504 with 2 Axes>"
      ]
     },
     "metadata": {
      "needs_background": "light"
     },
     "output_type": "display_data"
    }
   ],
   "source": [
    "plt.figure(figsize=(15,7))\n",
    "\n",
    "plt.subplot(1,2,1)\n",
    "plt.plot(hist.history['accuracy'], label='train')\n",
    "plt.plot(hist.history['val_accuracy'], label='validation')\n",
    "plt.title('Accuracy')\n",
    "plt.xlabel('Epochs')\n",
    "plt.ylabel('Accuracy')\n",
    "plt.legend()\n",
    "\n",
    "plt.subplot(1,2,2)\n",
    "plt.plot(hist.history['loss'], label='train')\n",
    "plt.plot(hist.history['val_loss'], label='validation')\n",
    "plt.title('Loss')\n",
    "plt.xlabel('Epochs')\n",
    "plt.ylabel('Loss')\n",
    "plt.legend()\n",
    "\n",
    "plt.tight_layout()\n",
    "plt.show()"
   ]
  },
  {
   "cell_type": "code",
   "execution_count": 47,
   "metadata": {},
   "outputs": [],
   "source": [
    "#http://scikit-learn.org/stable/auto_examples/model_selection/plot_confusion_matrix.html\n",
    "def plot_confusion_matrix(cm, classes,\n",
    "                          normalize=False,\n",
    "                          title='Confusion matrix',\n",
    "                          cmap=plt.cm.Blues):\n",
    "    \"\"\"\n",
    "    This function prints and plots the confusion matrix.\n",
    "    Normalization can be applied by setting `normalize=True`.\n",
    "    \"\"\"\n",
    "    if normalize:\n",
    "        cm = cm.astype('float') / cm.sum(axis=1)[:, np.newaxis]\n",
    "        print(\"Normalized confusion matrix\")\n",
    "    else:\n",
    "        print('Confusion matrix, without normalization')\n",
    "\n",
    "    plt.imshow(cm, interpolation='nearest', cmap=cmap)\n",
    "    plt.title(title)\n",
    "    plt.colorbar()\n",
    "    tick_marks = np.arange(len(classes))\n",
    "    plt.xticks(tick_marks, classes, rotation=45)\n",
    "    plt.yticks(tick_marks, classes)\n",
    "\n",
    "    fmt = '.2f' if normalize else 'd'\n",
    "    thresh = cm.max() / 2.\n",
    "    for i, j in itertools.product(range(cm.shape[0]), range(cm.shape[1])):\n",
    "        plt.text(j, i, format(cm[i, j], fmt),\n",
    "                 horizontalalignment=\"center\",\n",
    "                 color=\"white\" if cm[i, j] > thresh else \"black\")\n",
    "\n",
    "    plt.tight_layout()\n",
    "    plt.ylabel('True label')\n",
    "    plt.xlabel('Predicted label')"
   ]
  },
  {
   "cell_type": "code",
   "execution_count": 48,
   "metadata": {},
   "outputs": [],
   "source": [
    "preds = np.argmax(model.predict(X_test), axis = 1)\n",
    "y_orig = np.argmax(y_test, axis = 1)\n",
    "cm = confusion_matrix(preds, y_orig)"
   ]
  },
  {
   "cell_type": "code",
   "execution_count": 49,
   "metadata": {},
   "outputs": [
    {
     "name": "stdout",
     "output_type": "stream",
     "text": [
      "Normalized confusion matrix\n"
     ]
    },
    {
     "data": {
      "image/png": "[encoded data removed]",
      "text/plain": [
       "<Figure size 144x144 with 2 Axes>"
      ]
     },
     "metadata": {
      "needs_background": "light"
     },
     "output_type": "display_data"
    }
   ],
   "source": [
    "keys = OrderedDict(sorted(genres.items(), key=lambda t: t[1])).keys()\n",
    "\n",
    "plt.figure(figsize=(2, 2))\n",
    "plot_confusion_matrix(cm, keys, normalize=True)"
   ]
  },
  {
   "cell_type": "markdown",
   "metadata": {},
   "source": [
    "## Majority Vote"
   ]
  },
  {
   "cell_type": "code",
   "execution_count": 25,
   "metadata": {},
   "outputs": [],
   "source": [
    "def majority_vote(scores):\n",
    "    values, counts = np.unique(scores,return_counts=True)\n",
    "    ind = np.argmax(counts)\n",
    "    return values[ind]"
   ]
  },
  {
   "cell_type": "code",
   "execution_count": 26,
   "metadata": {},
   "outputs": [],
   "source": [
    "preds = model.predict(X_test, batch_size=32, verbose=0)"
   ]
  },
  {
   "cell_type": "code",
   "execution_count": 29,
   "metadata": {},
   "outputs": [],
   "source": [
    "# Each sound was divided into 39 segments in our custom function\n",
    "scores_songs = np.split(np.argmax(preds, axis=1), 2)\n",
    "scores_songs = [majority_vote(scores) for scores in scores_songs]"
   ]
  },
  {
   "cell_type": "code",
   "execution_count": 31,
   "metadata": {},
   "outputs": [],
   "source": [
    "# Same analysis for split\n",
    "label = np.split(np.argmax(y_test, axis=1), 2)\n",
    "label = [majority_vote(l) for l in label]"
   ]
  },
  {
   "cell_type": "code",
   "execution_count": 32,
   "metadata": {},
   "outputs": [
    {
     "name": "stdout",
     "output_type": "stream",
     "text": [
      "majority voting system (acc) = 1.000\n"
     ]
    }
   ],
   "source": [
    "from sklearn.metrics import accuracy_score\n",
    "\n",
    "print(\"majority voting system (acc) = {:.3f}\".format(accuracy_score(label, scores_songs)))"
   ]
  },
  {
   "cell_type": "markdown",
   "metadata": {},
   "source": [
    "Compared to the classical approach, we are winning now!\n",
    "\n",
    "We passed from a 78.8% accuracy to **82%**. It is not a great improvement but this is a really simple architecture."
   ]
  },
  {
   "cell_type": "markdown",
   "metadata": {},
   "source": [
    "## Save the model"
   ]
  },
  {
   "cell_type": "code",
   "execution_count": null,
   "metadata": {},
   "outputs": [],
   "source": [
    "# Save the model\n",
    "model.save('../models/custom_cnn_2d.h5')"
   ]
  }
 ],
 "metadata": {
  "kernelspec": {
   "display_name": "Python 3",
   "language": "python",
   "name": "python3"
  },
  "language_info": {
   "codemirror_mode": {
    "name": "ipython",
    "version": 3
   },
   "file_extension": ".py",
   "mimetype": "text/x-python",
   "name": "python",
   "nbconvert_exporter": "python",
   "pygments_lexer": "ipython3",
   "version": "3.8.12"
  }
 },
 "nbformat": 4,
 "nbformat_minor": 2
}
